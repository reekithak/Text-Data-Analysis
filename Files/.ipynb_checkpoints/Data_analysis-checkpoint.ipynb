{
 "cells": [
  {
   "cell_type": "markdown",
   "metadata": {
    "ExecuteTime": {
     "end_time": "2020-09-17T20:23:58.687522Z",
     "start_time": "2020-09-17T20:23:58.680542Z"
    }
   },
   "source": [
    "**CYBER SMILE , CHILD AND GROOMED COMMENT STORIES , CHILD ABUSE HASHTAGS**"
   ]
  },
  {
   "cell_type": "code",
   "execution_count": 1,
   "metadata": {
    "ExecuteTime": {
     "end_time": "2020-09-18T00:28:21.369801Z",
     "start_time": "2020-09-18T00:28:19.432131Z"
    }
   },
   "outputs": [],
   "source": [
    "import pandas as pd \n",
    "import numpy as np\n",
    "import matplotlib.pyplot as plt\n",
    "%matplotlib inline "
   ]
  },
  {
   "cell_type": "code",
   "execution_count": 2,
   "metadata": {
    "ExecuteTime": {
     "end_time": "2020-09-18T00:28:26.329379Z",
     "start_time": "2020-09-18T00:28:21.370555Z"
    }
   },
   "outputs": [
    {
     "name": "stderr",
     "output_type": "stream",
     "text": [
      "[nltk_data] Downloading package stopwords to C:\\Users\\Akhil\n",
      "[nltk_data]     Sanker\\AppData\\Roaming\\nltk_data...\n",
      "[nltk_data]   Package stopwords is already up-to-date!\n",
      "[nltk_data] Downloading package wordnet to C:\\Users\\Akhil\n",
      "[nltk_data]     Sanker\\AppData\\Roaming\\nltk_data...\n",
      "[nltk_data]   Package wordnet is already up-to-date!\n"
     ]
    }
   ],
   "source": [
    "from nltk.corpus import stopwords\n",
    "import nltk\n",
    "nltk.download('stopwords')\n",
    "nltk.download('wordnet')\n",
    "from sklearn.feature_extraction.text import CountVectorizer\n",
    "from sklearn.linear_model import LogisticRegression\n",
    "from sklearn.metrics import accuracy_score\n",
    "from sklearn.model_selection import train_test_split\n",
    "from sklearn.linear_model import LogisticRegression\n",
    "from sklearn.feature_extraction.text import TfidfVectorizer\n",
    "from sklearn.linear_model import LogisticRegression\n",
    "from sklearn.feature_extraction.text import CountVectorizer\n",
    "from sklearn.svm import LinearSVC\n",
    "from sklearn import metrics\n",
    "from sklearn.metrics import classification_report \n",
    "import textblob\n",
    "from textblob import TextBlob"
   ]
  },
  {
   "cell_type": "code",
   "execution_count": 3,
   "metadata": {
    "ExecuteTime": {
     "end_time": "2020-09-18T00:28:26.392744Z",
     "start_time": "2020-09-18T00:28:26.331375Z"
    }
   },
   "outputs": [],
   "source": [
    "chat_slang = pd.read_excel(\"Chat_Slang_Dictionary.xlsx\")"
   ]
  },
  {
   "cell_type": "code",
   "execution_count": 4,
   "metadata": {
    "ExecuteTime": {
     "end_time": "2020-09-18T00:28:26.408684Z",
     "start_time": "2020-09-18T00:28:26.394561Z"
    }
   },
   "outputs": [],
   "source": [
    "chat_slang\n",
    "slang_dict = dict(zip(chat_slang['Chat Term'],chat_slang['Translated Term'])) #create a dictionary for swapping later as part of \n",
    "#preprocessing\n",
    "slang = list(slang_dict.keys())"
   ]
  },
  {
   "cell_type": "code",
   "execution_count": 5,
   "metadata": {
    "ExecuteTime": {
     "end_time": "2020-09-18T00:28:26.424877Z",
     "start_time": "2020-09-18T00:28:26.409582Z"
    }
   },
   "outputs": [],
   "source": [
    "#adding additonal to chat_slang\n",
    "slang_dict[\"cp\"] = \"child porn\""
   ]
  },
  {
   "cell_type": "code",
   "execution_count": 6,
   "metadata": {
    "ExecuteTime": {
     "end_time": "2020-09-18T00:28:26.440230Z",
     "start_time": "2020-09-18T00:28:26.425879Z"
    }
   },
   "outputs": [],
   "source": [
    "def replace_slang(string):\n",
    "    global slang , slang_dict\n",
    "    for s in slang:\n",
    "        if s in string.lower().split():\n",
    "            string = string.replace(s,slang_dict[s])\n",
    "        else:\n",
    "            pass\n",
    "    return string \n",
    "        "
   ]
  },
  {
   "cell_type": "code",
   "execution_count": 7,
   "metadata": {
    "ExecuteTime": {
     "end_time": "2020-09-18T00:28:26.456376Z",
     "start_time": "2020-09-18T00:28:26.441137Z"
    }
   },
   "outputs": [],
   "source": [
    "si = ['\\n','.',',','\"',';',':','\\t']\n",
    "def clean_base(string):\n",
    "    for s in si:\n",
    "        \n",
    "        if s in string.lower():\n",
    "\n",
    "            string = string.replace(s,\" \")\n",
    "        else:\n",
    "            pass\n",
    "    return string"
   ]
  },
  {
   "cell_type": "code",
   "execution_count": 8,
   "metadata": {
    "ExecuteTime": {
     "end_time": "2020-09-18T00:28:28.826630Z",
     "start_time": "2020-09-18T00:28:26.458374Z"
    }
   },
   "outputs": [],
   "source": [
    "cyber_smile = pd.read_csv(\"CyberSmile data scrap.csv\")\n",
    "chat_groom_comment = pd.read_csv(\"child AND groomed_comments_stories.csv\")\n",
    "chat_hash_tags = pd.read_csv(\"Child_abuse_hashtags_cleaned.csv\")\n",
    "good_temp = pd.read_csv(\"good_data.csv\")"
   ]
  },
  {
   "cell_type": "code",
   "execution_count": 9,
   "metadata": {
    "ExecuteTime": {
     "end_time": "2020-09-18T00:28:28.874505Z",
     "start_time": "2020-09-18T00:28:28.827632Z"
    }
   },
   "outputs": [],
   "source": [
    "good_temp.drop(['id','qid1',\n",
    "               'qid2','question2','is_duplicate'],axis=1,inplace=True)"
   ]
  },
  {
   "cell_type": "code",
   "execution_count": 10,
   "metadata": {
    "ExecuteTime": {
     "end_time": "2020-09-18T00:28:28.905422Z",
     "start_time": "2020-09-18T00:28:28.876511Z"
    }
   },
   "outputs": [],
   "source": [
    "good_temp = good_temp.iloc[:250].reset_index(drop=True)\n",
    "good_temp['target'] = [1 for x in range(good_temp.shape[0])]\n",
    "good_temp = good_temp.rename(columns={\"question1\":\"Content\"})"
   ]
  },
  {
   "cell_type": "markdown",
   "metadata": {},
   "source": [
    "***CyberSmile - Analysis***"
   ]
  },
  {
   "cell_type": "code",
   "execution_count": 11,
   "metadata": {
    "ExecuteTime": {
     "end_time": "2020-09-18T00:28:28.921540Z",
     "start_time": "2020-09-18T00:28:28.907420Z"
    }
   },
   "outputs": [],
   "source": [
    "cs=cyber_smile"
   ]
  },
  {
   "cell_type": "code",
   "execution_count": 12,
   "metadata": {
    "ExecuteTime": {
     "end_time": "2020-09-18T00:28:28.936820Z",
     "start_time": "2020-09-18T00:28:28.922378Z"
    }
   },
   "outputs": [],
   "source": [
    "try:\n",
    "    cs.drop(['Thread_url'],inplace=True,axis=1)\n",
    "except:\n",
    "    pass"
   ]
  },
  {
   "cell_type": "code",
   "execution_count": 13,
   "metadata": {
    "ExecuteTime": {
     "end_time": "2020-09-18T00:28:28.952815Z",
     "start_time": "2020-09-18T00:28:28.937820Z"
    }
   },
   "outputs": [
    {
     "data": {
      "text/html": [
       "<div>\n",
       "<style scoped>\n",
       "    .dataframe tbody tr th:only-of-type {\n",
       "        vertical-align: middle;\n",
       "    }\n",
       "\n",
       "    .dataframe tbody tr th {\n",
       "        vertical-align: top;\n",
       "    }\n",
       "\n",
       "    .dataframe thead th {\n",
       "        text-align: right;\n",
       "    }\n",
       "</style>\n",
       "<table border=\"1\" class=\"dataframe\">\n",
       "  <thead>\n",
       "    <tr style=\"text-align: right;\">\n",
       "      <th></th>\n",
       "      <th>Thread_name</th>\n",
       "      <th>Thread_Content</th>\n",
       "    </tr>\n",
       "  </thead>\n",
       "  <tbody>\n",
       "    <tr>\n",
       "      <th>0</th>\n",
       "      <td>I need help, I don't know what to do. It won't...</td>\n",
       "      <td>This guy that harassed me back in 2007 is hara...</td>\n",
       "    </tr>\n",
       "    <tr>\n",
       "      <th>1</th>\n",
       "      <td>Instagram anonymous messages</td>\n",
       "      <td>Hi there,\\nI’m in my 30s and getting cyber bul...</td>\n",
       "    </tr>\n",
       "    <tr>\n",
       "      <th>2</th>\n",
       "      <td>Doxing</td>\n",
       "      <td>Hi, I was recently doxed by a few people who k...</td>\n",
       "    </tr>\n",
       "    <tr>\n",
       "      <th>3</th>\n",
       "      <td>I feel hopeless right now</td>\n",
       "      <td>I've had a group of ppl harassing me for over ...</td>\n",
       "    </tr>\n",
       "    <tr>\n",
       "      <th>4</th>\n",
       "      <td>Stop Cyberbullying Day 2020</td>\n",
       "      <td>Just wondering how this year went with everyon...</td>\n",
       "    </tr>\n",
       "    <tr>\n",
       "      <th>...</th>\n",
       "      <td>...</td>\n",
       "      <td>...</td>\n",
       "    </tr>\n",
       "    <tr>\n",
       "      <th>244</th>\n",
       "      <td>You are the badest person ever die\" Yep i was ...</td>\n",
       "      <td>There was more stuff but it was swearing can s...</td>\n",
       "    </tr>\n",
       "    <tr>\n",
       "      <th>245</th>\n",
       "      <td>How do I protect myself online?</td>\n",
       "      <td>I have been cyber bullied before and I got ove...</td>\n",
       "    </tr>\n",
       "    <tr>\n",
       "      <th>246</th>\n",
       "      <td>Sexting - advice for my daughters</td>\n",
       "      <td>I have two daughters 8 and 14 and i am very wo...</td>\n",
       "    </tr>\n",
       "    <tr>\n",
       "      <th>247</th>\n",
       "      <td>Instagram troubles</td>\n",
       "      <td>Someone is abusing my friend on Instagram, wha...</td>\n",
       "    </tr>\n",
       "    <tr>\n",
       "      <th>248</th>\n",
       "      <td>I'd really like to talk about something and wo...</td>\n",
       "      <td>Hello, I'm new and feeling very sensitive but ...</td>\n",
       "    </tr>\n",
       "  </tbody>\n",
       "</table>\n",
       "<p>249 rows × 2 columns</p>\n",
       "</div>"
      ],
      "text/plain": [
       "                                           Thread_name  \\\n",
       "0    I need help, I don't know what to do. It won't...   \n",
       "1                         Instagram anonymous messages   \n",
       "2                                               Doxing   \n",
       "3                            I feel hopeless right now   \n",
       "4                          Stop Cyberbullying Day 2020   \n",
       "..                                                 ...   \n",
       "244  You are the badest person ever die\" Yep i was ...   \n",
       "245                    How do I protect myself online?   \n",
       "246                  Sexting - advice for my daughters   \n",
       "247                                 Instagram troubles   \n",
       "248  I'd really like to talk about something and wo...   \n",
       "\n",
       "                                        Thread_Content  \n",
       "0    This guy that harassed me back in 2007 is hara...  \n",
       "1    Hi there,\\nI’m in my 30s and getting cyber bul...  \n",
       "2    Hi, I was recently doxed by a few people who k...  \n",
       "3    I've had a group of ppl harassing me for over ...  \n",
       "4    Just wondering how this year went with everyon...  \n",
       "..                                                 ...  \n",
       "244  There was more stuff but it was swearing can s...  \n",
       "245  I have been cyber bullied before and I got ove...  \n",
       "246  I have two daughters 8 and 14 and i am very wo...  \n",
       "247  Someone is abusing my friend on Instagram, wha...  \n",
       "248  Hello, I'm new and feeling very sensitive but ...  \n",
       "\n",
       "[249 rows x 2 columns]"
      ]
     },
     "execution_count": 13,
     "metadata": {},
     "output_type": "execute_result"
    }
   ],
   "source": [
    "cs"
   ]
  },
  {
   "cell_type": "code",
   "execution_count": 14,
   "metadata": {
    "ExecuteTime": {
     "end_time": "2020-09-18T00:28:29.015780Z",
     "start_time": "2020-09-18T00:28:28.953778Z"
    }
   },
   "outputs": [],
   "source": [
    "name_list = []\n",
    "for i in range(cs.shape[0]):\n",
    "    new_str = clean_base(cs['Thread_name'][i])\n",
    "    new_str = replace_slang(new_str)\n",
    "    name_list.append(new_str)\n",
    "Content = []\n",
    "for i in range(cs.shape[0]):\n",
    "    new_str = clean_base(cs['Thread_Content'][i])\n",
    "    new_str = replace_slang(new_str)\n",
    "    Content.append(new_str)"
   ]
  },
  {
   "cell_type": "code",
   "execution_count": 15,
   "metadata": {
    "ExecuteTime": {
     "end_time": "2020-09-18T00:28:29.031570Z",
     "start_time": "2020-09-18T00:28:29.016610Z"
    }
   },
   "outputs": [],
   "source": [
    "try:\n",
    "    cs['Name'] = name_list\n",
    "    cs['Content'] = Content\n",
    "    cs.drop(['Thread_name','Thread_Content'],axis=1,inplace=True)\n",
    "    cs['target'] = [0 for x in range(cs.shape[0])]\n",
    "except:\n",
    "    pass"
   ]
  },
  {
   "cell_type": "code",
   "execution_count": 16,
   "metadata": {
    "ExecuteTime": {
     "end_time": "2020-09-18T00:28:29.063487Z",
     "start_time": "2020-09-18T00:28:29.032567Z"
    }
   },
   "outputs": [
    {
     "data": {
      "text/html": [
       "<div>\n",
       "<style scoped>\n",
       "    .dataframe tbody tr th:only-of-type {\n",
       "        vertical-align: middle;\n",
       "    }\n",
       "\n",
       "    .dataframe tbody tr th {\n",
       "        vertical-align: top;\n",
       "    }\n",
       "\n",
       "    .dataframe thead th {\n",
       "        text-align: right;\n",
       "    }\n",
       "</style>\n",
       "<table border=\"1\" class=\"dataframe\">\n",
       "  <thead>\n",
       "    <tr style=\"text-align: right;\">\n",
       "      <th></th>\n",
       "      <th>Content</th>\n",
       "      <th>target</th>\n",
       "    </tr>\n",
       "  </thead>\n",
       "  <tbody>\n",
       "    <tr>\n",
       "      <th>0</th>\n",
       "      <td>This guy that harassed me back in 2007 is hara...</td>\n",
       "      <td>0</td>\n",
       "    </tr>\n",
       "    <tr>\n",
       "      <th>1</th>\n",
       "      <td>Hi there  I’m in my 30s and getting cyber bull...</td>\n",
       "      <td>0</td>\n",
       "    </tr>\n",
       "    <tr>\n",
       "      <th>2</th>\n",
       "      <td>Hi  I was recently doxed by a few people who k...</td>\n",
       "      <td>0</td>\n",
       "    </tr>\n",
       "    <tr>\n",
       "      <th>3</th>\n",
       "      <td>I've had a group of ppl harassing me for over ...</td>\n",
       "      <td>0</td>\n",
       "    </tr>\n",
       "    <tr>\n",
       "      <th>4</th>\n",
       "      <td>Just wondering how this year went with everyon...</td>\n",
       "      <td>0</td>\n",
       "    </tr>\n",
       "    <tr>\n",
       "      <th>...</th>\n",
       "      <td>...</td>\n",
       "      <td>...</td>\n",
       "    </tr>\n",
       "    <tr>\n",
       "      <th>245</th>\n",
       "      <td>How do you get a book published?</td>\n",
       "      <td>1</td>\n",
       "    </tr>\n",
       "    <tr>\n",
       "      <th>246</th>\n",
       "      <td>Who is disrupting Bloomberg?</td>\n",
       "      <td>1</td>\n",
       "    </tr>\n",
       "    <tr>\n",
       "      <th>247</th>\n",
       "      <td>Why can flash run so fast?</td>\n",
       "      <td>1</td>\n",
       "    </tr>\n",
       "    <tr>\n",
       "      <th>248</th>\n",
       "      <td>What is the best way to invest $500 legally so...</td>\n",
       "      <td>1</td>\n",
       "    </tr>\n",
       "    <tr>\n",
       "      <th>249</th>\n",
       "      <td>How will the implementation of GST bill impact...</td>\n",
       "      <td>1</td>\n",
       "    </tr>\n",
       "  </tbody>\n",
       "</table>\n",
       "<p>499 rows × 2 columns</p>\n",
       "</div>"
      ],
      "text/plain": [
       "                                               Content  target\n",
       "0    This guy that harassed me back in 2007 is hara...       0\n",
       "1    Hi there  I’m in my 30s and getting cyber bull...       0\n",
       "2    Hi  I was recently doxed by a few people who k...       0\n",
       "3    I've had a group of ppl harassing me for over ...       0\n",
       "4    Just wondering how this year went with everyon...       0\n",
       "..                                                 ...     ...\n",
       "245                   How do you get a book published?       1\n",
       "246                       Who is disrupting Bloomberg?       1\n",
       "247                         Why can flash run so fast?       1\n",
       "248  What is the best way to invest $500 legally so...       1\n",
       "249  How will the implementation of GST bill impact...       1\n",
       "\n",
       "[499 rows x 2 columns]"
      ]
     },
     "execution_count": 16,
     "metadata": {},
     "output_type": "execute_result"
    }
   ],
   "source": [
    "cs = pd.concat([cs,good_temp])\n",
    "#cs.drop(['question1'],axis=1,inplace=True)\n",
    "cs.drop(['Name'],axis=1,inplace=True)\n",
    "cs"
   ]
  },
  {
   "cell_type": "code",
   "execution_count": 17,
   "metadata": {
    "ExecuteTime": {
     "end_time": "2020-09-18T00:28:29.361872Z",
     "start_time": "2020-09-18T00:28:29.065478Z"
    }
   },
   "outputs": [],
   "source": [
    "cs['polarity'] = cs['Content'].map(lambda text: TextBlob(text).sentiment.polarity)\n",
    "cs['sen_len'] = cs['Content'].astype(str).apply(len)\n",
    "cs['word_count'] = cs['Content'].apply(lambda x: len(str(x).split()))"
   ]
  },
  {
   "cell_type": "code",
   "execution_count": 18,
   "metadata": {
    "ExecuteTime": {
     "end_time": "2020-09-18T00:28:29.377830Z",
     "start_time": "2020-09-18T00:28:29.362870Z"
    }
   },
   "outputs": [
    {
     "data": {
      "text/html": [
       "<div>\n",
       "<style scoped>\n",
       "    .dataframe tbody tr th:only-of-type {\n",
       "        vertical-align: middle;\n",
       "    }\n",
       "\n",
       "    .dataframe tbody tr th {\n",
       "        vertical-align: top;\n",
       "    }\n",
       "\n",
       "    .dataframe thead th {\n",
       "        text-align: right;\n",
       "    }\n",
       "</style>\n",
       "<table border=\"1\" class=\"dataframe\">\n",
       "  <thead>\n",
       "    <tr style=\"text-align: right;\">\n",
       "      <th></th>\n",
       "      <th>Content</th>\n",
       "      <th>target</th>\n",
       "      <th>polarity</th>\n",
       "      <th>sen_len</th>\n",
       "      <th>word_count</th>\n",
       "    </tr>\n",
       "  </thead>\n",
       "  <tbody>\n",
       "    <tr>\n",
       "      <th>0</th>\n",
       "      <td>This guy that harassed me back in 2007 is hara...</td>\n",
       "      <td>0</td>\n",
       "      <td>-0.014132</td>\n",
       "      <td>1378</td>\n",
       "      <td>269</td>\n",
       "    </tr>\n",
       "    <tr>\n",
       "      <th>1</th>\n",
       "      <td>Hi there  I’m in my 30s and getting cyber bull...</td>\n",
       "      <td>0</td>\n",
       "      <td>-0.004286</td>\n",
       "      <td>504</td>\n",
       "      <td>97</td>\n",
       "    </tr>\n",
       "    <tr>\n",
       "      <th>2</th>\n",
       "      <td>Hi  I was recently doxed by a few people who k...</td>\n",
       "      <td>0</td>\n",
       "      <td>-0.095971</td>\n",
       "      <td>836</td>\n",
       "      <td>158</td>\n",
       "    </tr>\n",
       "    <tr>\n",
       "      <th>3</th>\n",
       "      <td>I've had a group of ppl harassing me for over ...</td>\n",
       "      <td>0</td>\n",
       "      <td>-0.056548</td>\n",
       "      <td>1197</td>\n",
       "      <td>220</td>\n",
       "    </tr>\n",
       "    <tr>\n",
       "      <th>4</th>\n",
       "      <td>Just wondering how this year went with everyon...</td>\n",
       "      <td>0</td>\n",
       "      <td>0.008333</td>\n",
       "      <td>270</td>\n",
       "      <td>45</td>\n",
       "    </tr>\n",
       "    <tr>\n",
       "      <th>...</th>\n",
       "      <td>...</td>\n",
       "      <td>...</td>\n",
       "      <td>...</td>\n",
       "      <td>...</td>\n",
       "      <td>...</td>\n",
       "    </tr>\n",
       "    <tr>\n",
       "      <th>245</th>\n",
       "      <td>How do you get a book published?</td>\n",
       "      <td>1</td>\n",
       "      <td>0.000000</td>\n",
       "      <td>32</td>\n",
       "      <td>7</td>\n",
       "    </tr>\n",
       "    <tr>\n",
       "      <th>246</th>\n",
       "      <td>Who is disrupting Bloomberg?</td>\n",
       "      <td>1</td>\n",
       "      <td>0.000000</td>\n",
       "      <td>28</td>\n",
       "      <td>4</td>\n",
       "    </tr>\n",
       "    <tr>\n",
       "      <th>247</th>\n",
       "      <td>Why can flash run so fast?</td>\n",
       "      <td>1</td>\n",
       "      <td>0.200000</td>\n",
       "      <td>26</td>\n",
       "      <td>6</td>\n",
       "    </tr>\n",
       "    <tr>\n",
       "      <th>248</th>\n",
       "      <td>What is the best way to invest $500 legally so...</td>\n",
       "      <td>1</td>\n",
       "      <td>0.400000</td>\n",
       "      <td>132</td>\n",
       "      <td>26</td>\n",
       "    </tr>\n",
       "    <tr>\n",
       "      <th>249</th>\n",
       "      <td>How will the implementation of GST bill impact...</td>\n",
       "      <td>1</td>\n",
       "      <td>-0.300000</td>\n",
       "      <td>74</td>\n",
       "      <td>13</td>\n",
       "    </tr>\n",
       "  </tbody>\n",
       "</table>\n",
       "<p>499 rows × 5 columns</p>\n",
       "</div>"
      ],
      "text/plain": [
       "                                               Content  target  polarity  \\\n",
       "0    This guy that harassed me back in 2007 is hara...       0 -0.014132   \n",
       "1    Hi there  I’m in my 30s and getting cyber bull...       0 -0.004286   \n",
       "2    Hi  I was recently doxed by a few people who k...       0 -0.095971   \n",
       "3    I've had a group of ppl harassing me for over ...       0 -0.056548   \n",
       "4    Just wondering how this year went with everyon...       0  0.008333   \n",
       "..                                                 ...     ...       ...   \n",
       "245                   How do you get a book published?       1  0.000000   \n",
       "246                       Who is disrupting Bloomberg?       1  0.000000   \n",
       "247                         Why can flash run so fast?       1  0.200000   \n",
       "248  What is the best way to invest $500 legally so...       1  0.400000   \n",
       "249  How will the implementation of GST bill impact...       1 -0.300000   \n",
       "\n",
       "     sen_len  word_count  \n",
       "0       1378         269  \n",
       "1        504          97  \n",
       "2        836         158  \n",
       "3       1197         220  \n",
       "4        270          45  \n",
       "..       ...         ...  \n",
       "245       32           7  \n",
       "246       28           4  \n",
       "247       26           6  \n",
       "248      132          26  \n",
       "249       74          13  \n",
       "\n",
       "[499 rows x 5 columns]"
      ]
     },
     "execution_count": 18,
     "metadata": {},
     "output_type": "execute_result"
    }
   ],
   "source": [
    "cs"
   ]
  },
  {
   "cell_type": "code",
   "execution_count": 19,
   "metadata": {
    "ExecuteTime": {
     "end_time": "2020-09-18T00:28:31.441621Z",
     "start_time": "2020-09-18T00:28:29.379850Z"
    }
   },
   "outputs": [
    {
     "data": {
      "text/html": [
       "        <script type=\"text/javascript\">\n",
       "        window.PlotlyConfig = {MathJaxConfig: 'local'};\n",
       "        if (window.MathJax) {MathJax.Hub.Config({SVG: {font: \"STIX-Web\"}});}\n",
       "        if (typeof require !== 'undefined') {\n",
       "        require.undef(\"plotly\");\n",
       "        requirejs.config({\n",
       "            paths: {\n",
       "                'plotly': ['https://cdn.plot.ly/plotly-latest.min']\n",
       "            }\n",
       "        });\n",
       "        require(['plotly'], function(Plotly) {\n",
       "            window._Plotly = Plotly;\n",
       "        });\n",
       "        }\n",
       "        </script>\n",
       "        "
      ]
     },
     "metadata": {},
     "output_type": "display_data"
    }
   ],
   "source": [
    "import cufflinks as cf\n",
    "cf.go_offline()\n",
    "cf.set_config_file(offline=False, world_readable=True)"
   ]
  },
  {
   "cell_type": "code",
   "execution_count": 20,
   "metadata": {
    "ExecuteTime": {
     "end_time": "2020-09-18T00:28:33.529018Z",
     "start_time": "2020-09-18T00:28:31.443618Z"
    }
   },
   "outputs": [
    {
     "data": {
      "application/vnd.plotly.v1+json": {
       "config": {
        "linkText": "Export to plot.ly",
        "plotlyServerURL": "https://plot.ly",
        "showLink": true
       },
       "data": [
        {
         "histfunc": "count",
         "histnorm": "",
         "marker": {
          "color": "rgba(255, 153, 51, 1.0)",
          "line": {
           "color": "#000000",
           "width": 1.3
          }
         },
         "name": "polarity",
         "nbinsx": 50,
         "opacity": 0.8,
         "orientation": "v",
         "type": "histogram",
         "x": [
          -0.014132395382395366,
          -0.004285714285714265,
          -0.09597069597069598,
          -0.05654761904761902,
          0.008333333333333331,
          0.18436285936285937,
          -0.16458333333333333,
          0.01904761904761906,
          -0.10000000000000002,
          0.375,
          0.12277777777777778,
          0.13926470588235298,
          1,
          0.012272727272727268,
          0.01500000000000001,
          0.10000000000000002,
          -0.09716386554621849,
          0.15,
          0.1278409090909091,
          0.1281146369353916,
          0.4117460317460318,
          0.1,
          -0.06875,
          0.625,
          -0.07153409090909091,
          -0.41666666666666663,
          -0.140625,
          0.23495297805642631,
          -0.04583333333333334,
          0.11666666666666668,
          0.12629536101758324,
          -0.012499999999999982,
          0.32,
          0.46666666666666673,
          -0.09999999999999998,
          0.7500000000000001,
          -0.15238095238095237,
          -0.024999999999999967,
          0.22562260536398474,
          0.06250000000000001,
          0.075,
          0,
          0.27999999999999997,
          0.6,
          0.04196428571428574,
          0.2681818181818182,
          0.4,
          0.19999999999999998,
          0.0625,
          0.625,
          -0.04999999999999999,
          -0.011564625850340142,
          0,
          0.1915909090909091,
          -0.06666666666666668,
          -0.4,
          0.25,
          0.1638888888888889,
          0.013124999999999998,
          0.40729166666666666,
          0.2,
          -0.004545454545454547,
          0.07857142857142858,
          0.04375,
          0.07499999999999998,
          -0.16041666666666665,
          -0.07083333333333332,
          -0.04583333333333334,
          0.4035714285714286,
          0.14421768707482993,
          0.42441077441077435,
          0.14692982456140355,
          0.375,
          0.14814814814814814,
          0.48048469387755105,
          0.5625,
          0.5,
          -0.2785714285714286,
          -0.6999999999999998,
          0.3361111111111111,
          -0.1298611111111111,
          -0.27708333333333335,
          0.625,
          0,
          0.3571428571428571,
          0.6,
          0.36666666666666664,
          0,
          -0.17291666666666664,
          0.127724358974359,
          0.28690476190476194,
          0.11530773574251836,
          -0.5,
          0.2535714285714286,
          0.13636363636363635,
          -0.4198717948717949,
          -0.15416666666666665,
          -0.22475490196078432,
          0.1595238095238095,
          0.27749999999999997,
          -0.3958333333333333,
          -0.2916666666666667,
          0.625,
          0,
          -0.16370155038759687,
          0.047474747474747475,
          -0.6999999999999998,
          0.7500000000000001,
          0.0513888888888889,
          0,
          0.019336219336219335,
          0.13809523809523808,
          0.06338624338624338,
          0.20211640211640214,
          0.20476190476190478,
          0,
          0.5333333333333333,
          0.009999999999999998,
          0.03333333333333333,
          0.046590909090909106,
          0.14259259259259258,
          0.25,
          -0.011111111111111108,
          0.32999999999999996,
          0.3125,
          0.0537037037037037,
          0.07999639249639248,
          -0.12187500000000001,
          0,
          0.11266690340909091,
          0.35,
          0.09268707482993199,
          0.17083333333333334,
          0.0024458874458874354,
          0.07993827160493827,
          0.175,
          0.028977272727272727,
          0.22452380952380951,
          0.30451127819548873,
          0.23712121212121212,
          -0.12799479166666666,
          0.5333333333333333,
          0.3714285714285715,
          0.6,
          0.12525720164609053,
          0.22916666666666666,
          0.18552341597796146,
          -0.008940972222222222,
          0.059628851540616284,
          -0.003571428571428531,
          -0.26666666666666666,
          0.2132711038961039,
          0.06197916666666667,
          0.09444444444444444,
          -0.5,
          -0.02341269841269841,
          -0.5875,
          0.29166666666666663,
          0.04676767676767678,
          0.5,
          0.21863839285714287,
          0.16999999999999998,
          0.05,
          0.17272727272727273,
          -0.7,
          -0.2880952380952381,
          0.03571428571428571,
          -0.325,
          -0.1,
          0.015358946608946619,
          -0.0010672433035714204,
          0.3,
          0.36875,
          -0.02166666666666666,
          0.16242424242424244,
          -0.07694444444444443,
          0,
          0.5923076923076923,
          0.057499999999999996,
          0.18595959595959594,
          0.44222222222222224,
          0.06220238095238095,
          0.11142857142857143,
          -0.22499999999999998,
          0.04795918367346939,
          0.06666666666666667,
          0.0625,
          0.16203703703703703,
          0.2134199134199134,
          0.26116883116883116,
          0.5,
          0.2875,
          0.2783333333333333,
          -0.2186759259259259,
          0.33125,
          0.07993827160493827,
          0.175,
          0.028977272727272727,
          0.22452380952380951,
          0.30451127819548873,
          0.23712121212121212,
          -0.12799479166666666,
          0.5333333333333333,
          0.3714285714285715,
          0.6,
          0.12525720164609053,
          0.22916666666666666,
          0.18552341597796146,
          -0.008940972222222222,
          0.059628851540616284,
          -0.003571428571428531,
          -0.26666666666666666,
          0.2132711038961039,
          0.06197916666666667,
          0.09444444444444444,
          -0.5,
          -0.02341269841269841,
          -0.5875,
          0.29166666666666663,
          0.04676767676767678,
          0.5,
          0.21863839285714287,
          0.16999999999999998,
          0.05,
          0.17272727272727273,
          -0.7,
          -0.2880952380952381,
          0.03571428571428571,
          -0.325,
          -0.1,
          0.015358946608946619,
          -0.0010672433035714204,
          0.3,
          0.36875,
          -0.02166666666666666,
          0.075,
          0,
          0.27999999999999997,
          0.6,
          0.04196428571428574,
          0.2681818181818182,
          0.4,
          0.19999999999999998,
          0.0625,
          0.625,
          -0.04999999999999999,
          -0.011564625850340142,
          0,
          0.1915909090909091,
          0,
          0,
          0,
          -0.12999999999999998,
          0,
          0,
          0,
          0.7,
          0,
          0,
          0,
          0,
          0.43333333333333335,
          0.375,
          -0.2,
          -0.10416666666666667,
          -0.3125,
          0,
          0.35,
          0.5,
          0,
          0,
          0,
          0.2,
          -0.15625,
          0,
          0,
          0.2,
          1,
          0,
          0.5,
          0.35714285714285715,
          0.033333333333333326,
          0,
          1,
          0,
          -0.1,
          0,
          0,
          0,
          0,
          0,
          0,
          0.31666666666666665,
          0.13636363636363635,
          0,
          0,
          -0.078125,
          -0.7,
          0,
          0.7,
          0,
          -0.5,
          0.5,
          0,
          -0.5,
          0,
          0.7,
          0.05,
          0.5,
          0,
          0,
          0.13636363636363635,
          0,
          0,
          0,
          1,
          0,
          0,
          0.2,
          0,
          0,
          0,
          0,
          0,
          0,
          0,
          0,
          0,
          0,
          0,
          0.5428571428571429,
          0.1,
          0,
          0.16,
          0,
          0.0625,
          0,
          1,
          0,
          1,
          0.03333333333333333,
          0.3333333333333333,
          0,
          0,
          0,
          0,
          0,
          0.5333333333333333,
          0.1,
          0.2,
          0,
          0,
          1,
          0,
          0.15,
          0,
          0.2,
          0,
          0,
          0,
          0.4,
          0,
          0,
          -0.3125,
          0.15000000000000002,
          0,
          -0.6,
          0.5,
          -0.08333333333333333,
          0.1,
          0,
          0,
          1,
          0,
          0,
          -0.15625,
          -0.25,
          0,
          0,
          0,
          0.75,
          0,
          0.13888888888888887,
          0,
          0,
          -0.75,
          -0.13333333333333333,
          0,
          0.9,
          0,
          0.7,
          0.5,
          -0.16666666666666666,
          0,
          0.06818181818181818,
          0,
          0.1,
          0.2,
          -0.15,
          0.5,
          -0.6,
          0,
          0,
          -0.1,
          -0.4,
          0,
          0,
          0,
          0,
          0,
          0,
          0,
          0,
          0,
          0.2833333333333333,
          0,
          0,
          1,
          -0.05,
          0,
          0,
          1,
          0,
          0,
          0.55,
          0.13636363636363635,
          0.625,
          -0.25,
          0,
          0,
          0.04999999999999999,
          -0.0625,
          0,
          0,
          0,
          0.5,
          0,
          0.16666666666666666,
          0.25,
          0.7,
          0,
          0,
          1,
          0,
          0,
          0,
          0,
          0.25,
          0.2,
          0,
          0.35000000000000003,
          1,
          -0.8,
          0,
          0,
          0,
          1,
          -0.08333333333333333,
          0.4,
          0.13636363636363635,
          0.25,
          1,
          0,
          0.5,
          0,
          0.25,
          0,
          0.4,
          0,
          0,
          0,
          0,
          0,
          0,
          -0.5,
          0.13636363636363635,
          0,
          0,
          0.21212121212121213,
          0.5,
          -0.4,
          0.8,
          0,
          0,
          0,
          0,
          0.5,
          1,
          1,
          0,
          -0.05555555555555555,
          0,
          -0.08035714285714286,
          -0.15,
          0,
          0,
          0.2,
          0.39999999999999997,
          -0.3
         ]
        }
       ],
       "layout": {
        "barmode": "overlay",
        "legend": {
         "bgcolor": "#F5F6F9",
         "font": {
          "color": "#4D5663"
         }
        },
        "paper_bgcolor": "#F5F6F9",
        "plot_bgcolor": "#F5F6F9",
        "template": {
         "data": {
          "bar": [
           {
            "error_x": {
             "color": "#2a3f5f"
            },
            "error_y": {
             "color": "#2a3f5f"
            },
            "marker": {
             "line": {
              "color": "#E5ECF6",
              "width": 0.5
             }
            },
            "type": "bar"
           }
          ],
          "barpolar": [
           {
            "marker": {
             "line": {
              "color": "#E5ECF6",
              "width": 0.5
             }
            },
            "type": "barpolar"
           }
          ],
          "carpet": [
           {
            "aaxis": {
             "endlinecolor": "#2a3f5f",
             "gridcolor": "white",
             "linecolor": "white",
             "minorgridcolor": "white",
             "startlinecolor": "#2a3f5f"
            },
            "baxis": {
             "endlinecolor": "#2a3f5f",
             "gridcolor": "white",
             "linecolor": "white",
             "minorgridcolor": "white",
             "startlinecolor": "#2a3f5f"
            },
            "type": "carpet"
           }
          ],
          "choropleth": [
           {
            "colorbar": {
             "outlinewidth": 0,
             "ticks": ""
            },
            "type": "choropleth"
           }
          ],
          "contour": [
           {
            "colorbar": {
             "outlinewidth": 0,
             "ticks": ""
            },
            "colorscale": [
             [
              0,
              "#0d0887"
             ],
             [
              0.1111111111111111,
              "#46039f"
             ],
             [
              0.2222222222222222,
              "#7201a8"
             ],
             [
              0.3333333333333333,
              "#9c179e"
             ],
             [
              0.4444444444444444,
              "#bd3786"
             ],
             [
              0.5555555555555556,
              "#d8576b"
             ],
             [
              0.6666666666666666,
              "#ed7953"
             ],
             [
              0.7777777777777778,
              "#fb9f3a"
             ],
             [
              0.8888888888888888,
              "#fdca26"
             ],
             [
              1,
              "#f0f921"
             ]
            ],
            "type": "contour"
           }
          ],
          "contourcarpet": [
           {
            "colorbar": {
             "outlinewidth": 0,
             "ticks": ""
            },
            "type": "contourcarpet"
           }
          ],
          "heatmap": [
           {
            "colorbar": {
             "outlinewidth": 0,
             "ticks": ""
            },
            "colorscale": [
             [
              0,
              "#0d0887"
             ],
             [
              0.1111111111111111,
              "#46039f"
             ],
             [
              0.2222222222222222,
              "#7201a8"
             ],
             [
              0.3333333333333333,
              "#9c179e"
             ],
             [
              0.4444444444444444,
              "#bd3786"
             ],
             [
              0.5555555555555556,
              "#d8576b"
             ],
             [
              0.6666666666666666,
              "#ed7953"
             ],
             [
              0.7777777777777778,
              "#fb9f3a"
             ],
             [
              0.8888888888888888,
              "#fdca26"
             ],
             [
              1,
              "#f0f921"
             ]
            ],
            "type": "heatmap"
           }
          ],
          "heatmapgl": [
           {
            "colorbar": {
             "outlinewidth": 0,
             "ticks": ""
            },
            "colorscale": [
             [
              0,
              "#0d0887"
             ],
             [
              0.1111111111111111,
              "#46039f"
             ],
             [
              0.2222222222222222,
              "#7201a8"
             ],
             [
              0.3333333333333333,
              "#9c179e"
             ],
             [
              0.4444444444444444,
              "#bd3786"
             ],
             [
              0.5555555555555556,
              "#d8576b"
             ],
             [
              0.6666666666666666,
              "#ed7953"
             ],
             [
              0.7777777777777778,
              "#fb9f3a"
             ],
             [
              0.8888888888888888,
              "#fdca26"
             ],
             [
              1,
              "#f0f921"
             ]
            ],
            "type": "heatmapgl"
           }
          ],
          "histogram": [
           {
            "marker": {
             "colorbar": {
              "outlinewidth": 0,
              "ticks": ""
             }
            },
            "type": "histogram"
           }
          ],
          "histogram2d": [
           {
            "colorbar": {
             "outlinewidth": 0,
             "ticks": ""
            },
            "colorscale": [
             [
              0,
              "#0d0887"
             ],
             [
              0.1111111111111111,
              "#46039f"
             ],
             [
              0.2222222222222222,
              "#7201a8"
             ],
             [
              0.3333333333333333,
              "#9c179e"
             ],
             [
              0.4444444444444444,
              "#bd3786"
             ],
             [
              0.5555555555555556,
              "#d8576b"
             ],
             [
              0.6666666666666666,
              "#ed7953"
             ],
             [
              0.7777777777777778,
              "#fb9f3a"
             ],
             [
              0.8888888888888888,
              "#fdca26"
             ],
             [
              1,
              "#f0f921"
             ]
            ],
            "type": "histogram2d"
           }
          ],
          "histogram2dcontour": [
           {
            "colorbar": {
             "outlinewidth": 0,
             "ticks": ""
            },
            "colorscale": [
             [
              0,
              "#0d0887"
             ],
             [
              0.1111111111111111,
              "#46039f"
             ],
             [
              0.2222222222222222,
              "#7201a8"
             ],
             [
              0.3333333333333333,
              "#9c179e"
             ],
             [
              0.4444444444444444,
              "#bd3786"
             ],
             [
              0.5555555555555556,
              "#d8576b"
             ],
             [
              0.6666666666666666,
              "#ed7953"
             ],
             [
              0.7777777777777778,
              "#fb9f3a"
             ],
             [
              0.8888888888888888,
              "#fdca26"
             ],
             [
              1,
              "#f0f921"
             ]
            ],
            "type": "histogram2dcontour"
           }
          ],
          "mesh3d": [
           {
            "colorbar": {
             "outlinewidth": 0,
             "ticks": ""
            },
            "type": "mesh3d"
           }
          ],
          "parcoords": [
           {
            "line": {
             "colorbar": {
              "outlinewidth": 0,
              "ticks": ""
             }
            },
            "type": "parcoords"
           }
          ],
          "pie": [
           {
            "automargin": true,
            "type": "pie"
           }
          ],
          "scatter": [
           {
            "marker": {
             "colorbar": {
              "outlinewidth": 0,
              "ticks": ""
             }
            },
            "type": "scatter"
           }
          ],
          "scatter3d": [
           {
            "line": {
             "colorbar": {
              "outlinewidth": 0,
              "ticks": ""
             }
            },
            "marker": {
             "colorbar": {
              "outlinewidth": 0,
              "ticks": ""
             }
            },
            "type": "scatter3d"
           }
          ],
          "scattercarpet": [
           {
            "marker": {
             "colorbar": {
              "outlinewidth": 0,
              "ticks": ""
             }
            },
            "type": "scattercarpet"
           }
          ],
          "scattergeo": [
           {
            "marker": {
             "colorbar": {
              "outlinewidth": 0,
              "ticks": ""
             }
            },
            "type": "scattergeo"
           }
          ],
          "scattergl": [
           {
            "marker": {
             "colorbar": {
              "outlinewidth": 0,
              "ticks": ""
             }
            },
            "type": "scattergl"
           }
          ],
          "scattermapbox": [
           {
            "marker": {
             "colorbar": {
              "outlinewidth": 0,
              "ticks": ""
             }
            },
            "type": "scattermapbox"
           }
          ],
          "scatterpolar": [
           {
            "marker": {
             "colorbar": {
              "outlinewidth": 0,
              "ticks": ""
             }
            },
            "type": "scatterpolar"
           }
          ],
          "scatterpolargl": [
           {
            "marker": {
             "colorbar": {
              "outlinewidth": 0,
              "ticks": ""
             }
            },
            "type": "scatterpolargl"
           }
          ],
          "scatterternary": [
           {
            "marker": {
             "colorbar": {
              "outlinewidth": 0,
              "ticks": ""
             }
            },
            "type": "scatterternary"
           }
          ],
          "surface": [
           {
            "colorbar": {
             "outlinewidth": 0,
             "ticks": ""
            },
            "colorscale": [
             [
              0,
              "#0d0887"
             ],
             [
              0.1111111111111111,
              "#46039f"
             ],
             [
              0.2222222222222222,
              "#7201a8"
             ],
             [
              0.3333333333333333,
              "#9c179e"
             ],
             [
              0.4444444444444444,
              "#bd3786"
             ],
             [
              0.5555555555555556,
              "#d8576b"
             ],
             [
              0.6666666666666666,
              "#ed7953"
             ],
             [
              0.7777777777777778,
              "#fb9f3a"
             ],
             [
              0.8888888888888888,
              "#fdca26"
             ],
             [
              1,
              "#f0f921"
             ]
            ],
            "type": "surface"
           }
          ],
          "table": [
           {
            "cells": {
             "fill": {
              "color": "#EBF0F8"
             },
             "line": {
              "color": "white"
             }
            },
            "header": {
             "fill": {
              "color": "#C8D4E3"
             },
             "line": {
              "color": "white"
             }
            },
            "type": "table"
           }
          ]
         },
         "layout": {
          "annotationdefaults": {
           "arrowcolor": "#2a3f5f",
           "arrowhead": 0,
           "arrowwidth": 1
          },
          "coloraxis": {
           "colorbar": {
            "outlinewidth": 0,
            "ticks": ""
           }
          },
          "colorscale": {
           "diverging": [
            [
             0,
             "#8e0152"
            ],
            [
             0.1,
             "#c51b7d"
            ],
            [
             0.2,
             "#de77ae"
            ],
            [
             0.3,
             "#f1b6da"
            ],
            [
             0.4,
             "#fde0ef"
            ],
            [
             0.5,
             "#f7f7f7"
            ],
            [
             0.6,
             "#e6f5d0"
            ],
            [
             0.7,
             "#b8e186"
            ],
            [
             0.8,
             "#7fbc41"
            ],
            [
             0.9,
             "#4d9221"
            ],
            [
             1,
             "#276419"
            ]
           ],
           "sequential": [
            [
             0,
             "#0d0887"
            ],
            [
             0.1111111111111111,
             "#46039f"
            ],
            [
             0.2222222222222222,
             "#7201a8"
            ],
            [
             0.3333333333333333,
             "#9c179e"
            ],
            [
             0.4444444444444444,
             "#bd3786"
            ],
            [
             0.5555555555555556,
             "#d8576b"
            ],
            [
             0.6666666666666666,
             "#ed7953"
            ],
            [
             0.7777777777777778,
             "#fb9f3a"
            ],
            [
             0.8888888888888888,
             "#fdca26"
            ],
            [
             1,
             "#f0f921"
            ]
           ],
           "sequentialminus": [
            [
             0,
             "#0d0887"
            ],
            [
             0.1111111111111111,
             "#46039f"
            ],
            [
             0.2222222222222222,
             "#7201a8"
            ],
            [
             0.3333333333333333,
             "#9c179e"
            ],
            [
             0.4444444444444444,
             "#bd3786"
            ],
            [
             0.5555555555555556,
             "#d8576b"
            ],
            [
             0.6666666666666666,
             "#ed7953"
            ],
            [
             0.7777777777777778,
             "#fb9f3a"
            ],
            [
             0.8888888888888888,
             "#fdca26"
            ],
            [
             1,
             "#f0f921"
            ]
           ]
          },
          "colorway": [
           "#636efa",
           "#EF553B",
           "#00cc96",
           "#ab63fa",
           "#FFA15A",
           "#19d3f3",
           "#FF6692",
           "#B6E880",
           "#FF97FF",
           "#FECB52"
          ],
          "font": {
           "color": "#2a3f5f"
          },
          "geo": {
           "bgcolor": "white",
           "lakecolor": "white",
           "landcolor": "#E5ECF6",
           "showlakes": true,
           "showland": true,
           "subunitcolor": "white"
          },
          "hoverlabel": {
           "align": "left"
          },
          "hovermode": "closest",
          "mapbox": {
           "style": "light"
          },
          "paper_bgcolor": "white",
          "plot_bgcolor": "#E5ECF6",
          "polar": {
           "angularaxis": {
            "gridcolor": "white",
            "linecolor": "white",
            "ticks": ""
           },
           "bgcolor": "#E5ECF6",
           "radialaxis": {
            "gridcolor": "white",
            "linecolor": "white",
            "ticks": ""
           }
          },
          "scene": {
           "xaxis": {
            "backgroundcolor": "#E5ECF6",
            "gridcolor": "white",
            "gridwidth": 2,
            "linecolor": "white",
            "showbackground": true,
            "ticks": "",
            "zerolinecolor": "white"
           },
           "yaxis": {
            "backgroundcolor": "#E5ECF6",
            "gridcolor": "white",
            "gridwidth": 2,
            "linecolor": "white",
            "showbackground": true,
            "ticks": "",
            "zerolinecolor": "white"
           },
           "zaxis": {
            "backgroundcolor": "#E5ECF6",
            "gridcolor": "white",
            "gridwidth": 2,
            "linecolor": "white",
            "showbackground": true,
            "ticks": "",
            "zerolinecolor": "white"
           }
          },
          "shapedefaults": {
           "line": {
            "color": "#2a3f5f"
           }
          },
          "ternary": {
           "aaxis": {
            "gridcolor": "white",
            "linecolor": "white",
            "ticks": ""
           },
           "baxis": {
            "gridcolor": "white",
            "linecolor": "white",
            "ticks": ""
           },
           "bgcolor": "#E5ECF6",
           "caxis": {
            "gridcolor": "white",
            "linecolor": "white",
            "ticks": ""
           }
          },
          "title": {
           "x": 0.05
          },
          "xaxis": {
           "automargin": true,
           "gridcolor": "white",
           "linecolor": "white",
           "ticks": "",
           "title": {
            "standoff": 15
           },
           "zerolinecolor": "white",
           "zerolinewidth": 2
          },
          "yaxis": {
           "automargin": true,
           "gridcolor": "white",
           "linecolor": "white",
           "ticks": "",
           "title": {
            "standoff": 15
           },
           "zerolinecolor": "white",
           "zerolinewidth": 2
          }
         }
        },
        "title": {
         "font": {
          "color": "#4D5663"
         },
         "text": "Sentiment Polarity Distribution"
        },
        "xaxis": {
         "gridcolor": "#E1E5ED",
         "linecolor": "black",
         "showgrid": true,
         "tickfont": {
          "color": "#4D5663"
         },
         "title": {
          "font": {
           "color": "#4D5663"
          },
          "text": "polarity"
         },
         "zerolinecolor": "#E1E5ED"
        },
        "yaxis": {
         "gridcolor": "#E1E5ED",
         "linecolor": "black",
         "showgrid": true,
         "tickfont": {
          "color": "#4D5663"
         },
         "title": {
          "font": {
           "color": "#4D5663"
          },
          "text": "count"
         },
         "zerolinecolor": "#E1E5ED"
        }
       }
      },
      "text/html": [
       "<div>                            <div id=\"0335cb63-08e1-4a16-ac9e-614594f9f73c\" class=\"plotly-graph-div\" style=\"height:525px; width:100%;\"></div>            <script type=\"text/javascript\">                require([\"plotly\"], function(Plotly) {                    window.PLOTLYENV=window.PLOTLYENV || {};\n",
       "                    window.PLOTLYENV.BASE_URL='https://plot.ly';                                    if (document.getElementById(\"0335cb63-08e1-4a16-ac9e-614594f9f73c\")) {                    Plotly.newPlot(                        \"0335cb63-08e1-4a16-ac9e-614594f9f73c\",                        [{\"histfunc\": \"count\", \"histnorm\": \"\", \"marker\": {\"color\": \"rgba(255, 153, 51, 1.0)\", \"line\": {\"color\": \"#000000\", \"width\": 1.3}}, \"name\": \"polarity\", \"nbinsx\": 50, \"opacity\": 0.8, \"orientation\": \"v\", \"type\": \"histogram\", \"x\": [-0.014132395382395366, -0.004285714285714265, -0.09597069597069598, -0.05654761904761902, 0.008333333333333331, 0.18436285936285937, -0.16458333333333333, 0.01904761904761906, -0.10000000000000002, 0.375, 0.12277777777777778, 0.13926470588235298, 1.0, 0.012272727272727268, 0.01500000000000001, 0.10000000000000002, -0.09716386554621849, 0.15, 0.1278409090909091, 0.1281146369353916, 0.4117460317460318, 0.1, -0.06875, 0.625, -0.07153409090909091, -0.41666666666666663, -0.140625, 0.23495297805642631, -0.04583333333333334, 0.11666666666666668, 0.12629536101758324, -0.012499999999999982, 0.32, 0.46666666666666673, -0.09999999999999998, 0.7500000000000001, -0.15238095238095237, -0.024999999999999967, 0.22562260536398474, 0.06250000000000001, 0.075, 0.0, 0.27999999999999997, 0.6, 0.04196428571428574, 0.2681818181818182, 0.4, 0.19999999999999998, 0.0625, 0.625, -0.04999999999999999, -0.011564625850340142, 0.0, 0.1915909090909091, -0.06666666666666668, -0.4, 0.25, 0.1638888888888889, 0.013124999999999998, 0.40729166666666666, 0.2, -0.004545454545454547, 0.07857142857142858, 0.04375, 0.07499999999999998, -0.16041666666666665, -0.07083333333333332, -0.04583333333333334, 0.4035714285714286, 0.14421768707482993, 0.42441077441077435, 0.14692982456140355, 0.375, 0.14814814814814814, 0.48048469387755105, 0.5625, 0.5, -0.2785714285714286, -0.6999999999999998, 0.3361111111111111, -0.1298611111111111, -0.27708333333333335, 0.625, 0.0, 0.3571428571428571, 0.6, 0.36666666666666664, 0.0, -0.17291666666666664, 0.127724358974359, 0.28690476190476194, 0.11530773574251836, -0.5, 0.2535714285714286, 0.13636363636363635, -0.4198717948717949, -0.15416666666666665, -0.22475490196078432, 0.1595238095238095, 0.27749999999999997, -0.3958333333333333, -0.2916666666666667, 0.625, 0.0, -0.16370155038759687, 0.047474747474747475, -0.6999999999999998, 0.7500000000000001, 0.0513888888888889, 0.0, 0.019336219336219335, 0.13809523809523808, 0.06338624338624338, 0.20211640211640214, 0.20476190476190478, 0.0, 0.5333333333333333, 0.009999999999999998, 0.03333333333333333, 0.046590909090909106, 0.14259259259259258, 0.25, -0.011111111111111108, 0.32999999999999996, 0.3125, 0.0537037037037037, 0.07999639249639248, -0.12187500000000001, 0.0, 0.11266690340909091, 0.35, 0.09268707482993199, 0.17083333333333334, 0.0024458874458874354, 0.07993827160493827, 0.175, 0.028977272727272727, 0.22452380952380951, 0.30451127819548873, 0.23712121212121212, -0.12799479166666666, 0.5333333333333333, 0.3714285714285715, 0.6, 0.12525720164609053, 0.22916666666666666, 0.18552341597796146, -0.008940972222222222, 0.059628851540616284, -0.003571428571428531, -0.26666666666666666, 0.2132711038961039, 0.06197916666666667, 0.09444444444444444, -0.5, -0.02341269841269841, -0.5875, 0.29166666666666663, 0.04676767676767678, 0.5, 0.21863839285714287, 0.16999999999999998, 0.05, 0.17272727272727273, -0.7, -0.2880952380952381, 0.03571428571428571, -0.325, -0.1, 0.015358946608946619, -0.0010672433035714204, 0.3, 0.36875, -0.02166666666666666, 0.16242424242424244, -0.07694444444444443, 0.0, 0.5923076923076923, 0.057499999999999996, 0.18595959595959594, 0.44222222222222224, 0.06220238095238095, 0.11142857142857143, -0.22499999999999998, 0.04795918367346939, 0.06666666666666667, 0.0625, 0.16203703703703703, 0.2134199134199134, 0.26116883116883116, 0.5, 0.2875, 0.2783333333333333, -0.2186759259259259, 0.33125, 0.07993827160493827, 0.175, 0.028977272727272727, 0.22452380952380951, 0.30451127819548873, 0.23712121212121212, -0.12799479166666666, 0.5333333333333333, 0.3714285714285715, 0.6, 0.12525720164609053, 0.22916666666666666, 0.18552341597796146, -0.008940972222222222, 0.059628851540616284, -0.003571428571428531, -0.26666666666666666, 0.2132711038961039, 0.06197916666666667, 0.09444444444444444, -0.5, -0.02341269841269841, -0.5875, 0.29166666666666663, 0.04676767676767678, 0.5, 0.21863839285714287, 0.16999999999999998, 0.05, 0.17272727272727273, -0.7, -0.2880952380952381, 0.03571428571428571, -0.325, -0.1, 0.015358946608946619, -0.0010672433035714204, 0.3, 0.36875, -0.02166666666666666, 0.075, 0.0, 0.27999999999999997, 0.6, 0.04196428571428574, 0.2681818181818182, 0.4, 0.19999999999999998, 0.0625, 0.625, -0.04999999999999999, -0.011564625850340142, 0.0, 0.1915909090909091, 0.0, 0.0, 0.0, -0.12999999999999998, 0.0, 0.0, 0.0, 0.7, 0.0, 0.0, 0.0, 0.0, 0.43333333333333335, 0.375, -0.2, -0.10416666666666667, -0.3125, 0.0, 0.35, 0.5, 0.0, 0.0, 0.0, 0.2, -0.15625, 0.0, 0.0, 0.2, 1.0, 0.0, 0.5, 0.35714285714285715, 0.033333333333333326, 0.0, 1.0, 0.0, -0.1, 0.0, 0.0, 0.0, 0.0, 0.0, 0.0, 0.31666666666666665, 0.13636363636363635, 0.0, 0.0, -0.078125, -0.7, 0.0, 0.7, 0.0, -0.5, 0.5, 0.0, -0.5, 0.0, 0.7, 0.05, 0.5, 0.0, 0.0, 0.13636363636363635, 0.0, 0.0, 0.0, 1.0, 0.0, 0.0, 0.2, 0.0, 0.0, 0.0, 0.0, 0.0, 0.0, 0.0, 0.0, 0.0, 0.0, 0.0, 0.5428571428571429, 0.1, 0.0, 0.16, 0.0, 0.0625, 0.0, 1.0, 0.0, 1.0, 0.03333333333333333, 0.3333333333333333, 0.0, 0.0, 0.0, 0.0, 0.0, 0.5333333333333333, 0.1, 0.2, 0.0, 0.0, 1.0, 0.0, 0.15, 0.0, 0.2, 0.0, 0.0, 0.0, 0.4, 0.0, 0.0, -0.3125, 0.15000000000000002, 0.0, -0.6, 0.5, -0.08333333333333333, 0.1, 0.0, 0.0, 1.0, 0.0, 0.0, -0.15625, -0.25, 0.0, 0.0, 0.0, 0.75, 0.0, 0.13888888888888887, 0.0, 0.0, -0.75, -0.13333333333333333, 0.0, 0.9, 0.0, 0.7, 0.5, -0.16666666666666666, 0.0, 0.06818181818181818, 0.0, 0.1, 0.2, -0.15, 0.5, -0.6, 0.0, 0.0, -0.1, -0.4, 0.0, 0.0, 0.0, 0.0, 0.0, 0.0, 0.0, 0.0, 0.0, 0.2833333333333333, 0.0, 0.0, 1.0, -0.05, 0.0, 0.0, 1.0, 0.0, 0.0, 0.55, 0.13636363636363635, 0.625, -0.25, 0.0, 0.0, 0.04999999999999999, -0.0625, 0.0, 0.0, 0.0, 0.5, 0.0, 0.16666666666666666, 0.25, 0.7, 0.0, 0.0, 1.0, 0.0, 0.0, 0.0, 0.0, 0.25, 0.2, 0.0, 0.35000000000000003, 1.0, -0.8, 0.0, 0.0, 0.0, 1.0, -0.08333333333333333, 0.4, 0.13636363636363635, 0.25, 1.0, 0.0, 0.5, 0.0, 0.25, 0.0, 0.4, 0.0, 0.0, 0.0, 0.0, 0.0, 0.0, -0.5, 0.13636363636363635, 0.0, 0.0, 0.21212121212121213, 0.5, -0.4, 0.8, 0.0, 0.0, 0.0, 0.0, 0.5, 1.0, 1.0, 0.0, -0.05555555555555555, 0.0, -0.08035714285714286, -0.15, 0.0, 0.0, 0.2, 0.39999999999999997, -0.3]}],                        {\"barmode\": \"overlay\", \"legend\": {\"bgcolor\": \"#F5F6F9\", \"font\": {\"color\": \"#4D5663\"}}, \"paper_bgcolor\": \"#F5F6F9\", \"plot_bgcolor\": \"#F5F6F9\", \"template\": {\"data\": {\"bar\": [{\"error_x\": {\"color\": \"#2a3f5f\"}, \"error_y\": {\"color\": \"#2a3f5f\"}, \"marker\": {\"line\": {\"color\": \"#E5ECF6\", \"width\": 0.5}}, \"type\": \"bar\"}], \"barpolar\": [{\"marker\": {\"line\": {\"color\": \"#E5ECF6\", \"width\": 0.5}}, \"type\": \"barpolar\"}], \"carpet\": [{\"aaxis\": {\"endlinecolor\": \"#2a3f5f\", \"gridcolor\": \"white\", \"linecolor\": \"white\", \"minorgridcolor\": \"white\", \"startlinecolor\": \"#2a3f5f\"}, \"baxis\": {\"endlinecolor\": \"#2a3f5f\", \"gridcolor\": \"white\", \"linecolor\": \"white\", \"minorgridcolor\": \"white\", \"startlinecolor\": \"#2a3f5f\"}, \"type\": \"carpet\"}], \"choropleth\": [{\"colorbar\": {\"outlinewidth\": 0, \"ticks\": \"\"}, \"type\": \"choropleth\"}], \"contour\": [{\"colorbar\": {\"outlinewidth\": 0, \"ticks\": \"\"}, \"colorscale\": [[0.0, \"#0d0887\"], [0.1111111111111111, \"#46039f\"], [0.2222222222222222, \"#7201a8\"], [0.3333333333333333, \"#9c179e\"], [0.4444444444444444, \"#bd3786\"], [0.5555555555555556, \"#d8576b\"], [0.6666666666666666, \"#ed7953\"], [0.7777777777777778, \"#fb9f3a\"], [0.8888888888888888, \"#fdca26\"], [1.0, \"#f0f921\"]], \"type\": \"contour\"}], \"contourcarpet\": [{\"colorbar\": {\"outlinewidth\": 0, \"ticks\": \"\"}, \"type\": \"contourcarpet\"}], \"heatmap\": [{\"colorbar\": {\"outlinewidth\": 0, \"ticks\": \"\"}, \"colorscale\": [[0.0, \"#0d0887\"], [0.1111111111111111, \"#46039f\"], [0.2222222222222222, \"#7201a8\"], [0.3333333333333333, \"#9c179e\"], [0.4444444444444444, \"#bd3786\"], [0.5555555555555556, \"#d8576b\"], [0.6666666666666666, \"#ed7953\"], [0.7777777777777778, \"#fb9f3a\"], [0.8888888888888888, \"#fdca26\"], [1.0, \"#f0f921\"]], \"type\": \"heatmap\"}], \"heatmapgl\": [{\"colorbar\": {\"outlinewidth\": 0, \"ticks\": \"\"}, \"colorscale\": [[0.0, \"#0d0887\"], [0.1111111111111111, \"#46039f\"], [0.2222222222222222, \"#7201a8\"], [0.3333333333333333, \"#9c179e\"], [0.4444444444444444, \"#bd3786\"], [0.5555555555555556, \"#d8576b\"], [0.6666666666666666, \"#ed7953\"], [0.7777777777777778, \"#fb9f3a\"], [0.8888888888888888, \"#fdca26\"], [1.0, \"#f0f921\"]], \"type\": \"heatmapgl\"}], \"histogram\": [{\"marker\": {\"colorbar\": {\"outlinewidth\": 0, \"ticks\": \"\"}}, \"type\": \"histogram\"}], \"histogram2d\": [{\"colorbar\": {\"outlinewidth\": 0, \"ticks\": \"\"}, \"colorscale\": [[0.0, \"#0d0887\"], [0.1111111111111111, \"#46039f\"], [0.2222222222222222, \"#7201a8\"], [0.3333333333333333, \"#9c179e\"], [0.4444444444444444, \"#bd3786\"], [0.5555555555555556, \"#d8576b\"], [0.6666666666666666, \"#ed7953\"], [0.7777777777777778, \"#fb9f3a\"], [0.8888888888888888, \"#fdca26\"], [1.0, \"#f0f921\"]], \"type\": \"histogram2d\"}], \"histogram2dcontour\": [{\"colorbar\": {\"outlinewidth\": 0, \"ticks\": \"\"}, \"colorscale\": [[0.0, \"#0d0887\"], [0.1111111111111111, \"#46039f\"], [0.2222222222222222, \"#7201a8\"], [0.3333333333333333, \"#9c179e\"], [0.4444444444444444, \"#bd3786\"], [0.5555555555555556, \"#d8576b\"], [0.6666666666666666, \"#ed7953\"], [0.7777777777777778, \"#fb9f3a\"], [0.8888888888888888, \"#fdca26\"], [1.0, \"#f0f921\"]], \"type\": \"histogram2dcontour\"}], \"mesh3d\": [{\"colorbar\": {\"outlinewidth\": 0, \"ticks\": \"\"}, \"type\": \"mesh3d\"}], \"parcoords\": [{\"line\": {\"colorbar\": {\"outlinewidth\": 0, \"ticks\": \"\"}}, \"type\": \"parcoords\"}], \"pie\": [{\"automargin\": true, \"type\": \"pie\"}], \"scatter\": [{\"marker\": {\"colorbar\": {\"outlinewidth\": 0, \"ticks\": \"\"}}, \"type\": \"scatter\"}], \"scatter3d\": [{\"line\": {\"colorbar\": {\"outlinewidth\": 0, \"ticks\": \"\"}}, \"marker\": {\"colorbar\": {\"outlinewidth\": 0, \"ticks\": \"\"}}, \"type\": \"scatter3d\"}], \"scattercarpet\": [{\"marker\": {\"colorbar\": {\"outlinewidth\": 0, \"ticks\": \"\"}}, \"type\": \"scattercarpet\"}], \"scattergeo\": [{\"marker\": {\"colorbar\": {\"outlinewidth\": 0, \"ticks\": \"\"}}, \"type\": \"scattergeo\"}], \"scattergl\": [{\"marker\": {\"colorbar\": {\"outlinewidth\": 0, \"ticks\": \"\"}}, \"type\": \"scattergl\"}], \"scattermapbox\": [{\"marker\": {\"colorbar\": {\"outlinewidth\": 0, \"ticks\": \"\"}}, \"type\": \"scattermapbox\"}], \"scatterpolar\": [{\"marker\": {\"colorbar\": {\"outlinewidth\": 0, \"ticks\": \"\"}}, \"type\": \"scatterpolar\"}], \"scatterpolargl\": [{\"marker\": {\"colorbar\": {\"outlinewidth\": 0, \"ticks\": \"\"}}, \"type\": \"scatterpolargl\"}], \"scatterternary\": [{\"marker\": {\"colorbar\": {\"outlinewidth\": 0, \"ticks\": \"\"}}, \"type\": \"scatterternary\"}], \"surface\": [{\"colorbar\": {\"outlinewidth\": 0, \"ticks\": \"\"}, \"colorscale\": [[0.0, \"#0d0887\"], [0.1111111111111111, \"#46039f\"], [0.2222222222222222, \"#7201a8\"], [0.3333333333333333, \"#9c179e\"], [0.4444444444444444, \"#bd3786\"], [0.5555555555555556, \"#d8576b\"], [0.6666666666666666, \"#ed7953\"], [0.7777777777777778, \"#fb9f3a\"], [0.8888888888888888, \"#fdca26\"], [1.0, \"#f0f921\"]], \"type\": \"surface\"}], \"table\": [{\"cells\": {\"fill\": {\"color\": \"#EBF0F8\"}, \"line\": {\"color\": \"white\"}}, \"header\": {\"fill\": {\"color\": \"#C8D4E3\"}, \"line\": {\"color\": \"white\"}}, \"type\": \"table\"}]}, \"layout\": {\"annotationdefaults\": {\"arrowcolor\": \"#2a3f5f\", \"arrowhead\": 0, \"arrowwidth\": 1}, \"coloraxis\": {\"colorbar\": {\"outlinewidth\": 0, \"ticks\": \"\"}}, \"colorscale\": {\"diverging\": [[0, \"#8e0152\"], [0.1, \"#c51b7d\"], [0.2, \"#de77ae\"], [0.3, \"#f1b6da\"], [0.4, \"#fde0ef\"], [0.5, \"#f7f7f7\"], [0.6, \"#e6f5d0\"], [0.7, \"#b8e186\"], [0.8, \"#7fbc41\"], [0.9, \"#4d9221\"], [1, \"#276419\"]], \"sequential\": [[0.0, \"#0d0887\"], [0.1111111111111111, \"#46039f\"], [0.2222222222222222, \"#7201a8\"], [0.3333333333333333, \"#9c179e\"], [0.4444444444444444, \"#bd3786\"], [0.5555555555555556, \"#d8576b\"], [0.6666666666666666, \"#ed7953\"], [0.7777777777777778, \"#fb9f3a\"], [0.8888888888888888, \"#fdca26\"], [1.0, \"#f0f921\"]], \"sequentialminus\": [[0.0, \"#0d0887\"], [0.1111111111111111, \"#46039f\"], [0.2222222222222222, \"#7201a8\"], [0.3333333333333333, \"#9c179e\"], [0.4444444444444444, \"#bd3786\"], [0.5555555555555556, \"#d8576b\"], [0.6666666666666666, \"#ed7953\"], [0.7777777777777778, \"#fb9f3a\"], [0.8888888888888888, \"#fdca26\"], [1.0, \"#f0f921\"]]}, \"colorway\": [\"#636efa\", \"#EF553B\", \"#00cc96\", \"#ab63fa\", \"#FFA15A\", \"#19d3f3\", \"#FF6692\", \"#B6E880\", \"#FF97FF\", \"#FECB52\"], \"font\": {\"color\": \"#2a3f5f\"}, \"geo\": {\"bgcolor\": \"white\", \"lakecolor\": \"white\", \"landcolor\": \"#E5ECF6\", \"showlakes\": true, \"showland\": true, \"subunitcolor\": \"white\"}, \"hoverlabel\": {\"align\": \"left\"}, \"hovermode\": \"closest\", \"mapbox\": {\"style\": \"light\"}, \"paper_bgcolor\": \"white\", \"plot_bgcolor\": \"#E5ECF6\", \"polar\": {\"angularaxis\": {\"gridcolor\": \"white\", \"linecolor\": \"white\", \"ticks\": \"\"}, \"bgcolor\": \"#E5ECF6\", \"radialaxis\": {\"gridcolor\": \"white\", \"linecolor\": \"white\", \"ticks\": \"\"}}, \"scene\": {\"xaxis\": {\"backgroundcolor\": \"#E5ECF6\", \"gridcolor\": \"white\", \"gridwidth\": 2, \"linecolor\": \"white\", \"showbackground\": true, \"ticks\": \"\", \"zerolinecolor\": \"white\"}, \"yaxis\": {\"backgroundcolor\": \"#E5ECF6\", \"gridcolor\": \"white\", \"gridwidth\": 2, \"linecolor\": \"white\", \"showbackground\": true, \"ticks\": \"\", \"zerolinecolor\": \"white\"}, \"zaxis\": {\"backgroundcolor\": \"#E5ECF6\", \"gridcolor\": \"white\", \"gridwidth\": 2, \"linecolor\": \"white\", \"showbackground\": true, \"ticks\": \"\", \"zerolinecolor\": \"white\"}}, \"shapedefaults\": {\"line\": {\"color\": \"#2a3f5f\"}}, \"ternary\": {\"aaxis\": {\"gridcolor\": \"white\", \"linecolor\": \"white\", \"ticks\": \"\"}, \"baxis\": {\"gridcolor\": \"white\", \"linecolor\": \"white\", \"ticks\": \"\"}, \"bgcolor\": \"#E5ECF6\", \"caxis\": {\"gridcolor\": \"white\", \"linecolor\": \"white\", \"ticks\": \"\"}}, \"title\": {\"x\": 0.05}, \"xaxis\": {\"automargin\": true, \"gridcolor\": \"white\", \"linecolor\": \"white\", \"ticks\": \"\", \"title\": {\"standoff\": 15}, \"zerolinecolor\": \"white\", \"zerolinewidth\": 2}, \"yaxis\": {\"automargin\": true, \"gridcolor\": \"white\", \"linecolor\": \"white\", \"ticks\": \"\", \"title\": {\"standoff\": 15}, \"zerolinecolor\": \"white\", \"zerolinewidth\": 2}}}, \"title\": {\"font\": {\"color\": \"#4D5663\"}, \"text\": \"Sentiment Polarity Distribution\"}, \"xaxis\": {\"gridcolor\": \"#E1E5ED\", \"linecolor\": \"black\", \"showgrid\": true, \"tickfont\": {\"color\": \"#4D5663\"}, \"title\": {\"font\": {\"color\": \"#4D5663\"}, \"text\": \"polarity\"}, \"zerolinecolor\": \"#E1E5ED\"}, \"yaxis\": {\"gridcolor\": \"#E1E5ED\", \"linecolor\": \"black\", \"showgrid\": true, \"tickfont\": {\"color\": \"#4D5663\"}, \"title\": {\"font\": {\"color\": \"#4D5663\"}, \"text\": \"count\"}, \"zerolinecolor\": \"#E1E5ED\"}},                        {\"showLink\": true, \"linkText\": \"Export to plot.ly\", \"plotlyServerURL\": \"https://plot.ly\", \"responsive\": true}                    ).then(function(){\n",
       "                            \n",
       "var gd = document.getElementById('0335cb63-08e1-4a16-ac9e-614594f9f73c');\n",
       "var x = new MutationObserver(function (mutations, observer) {{\n",
       "        var display = window.getComputedStyle(gd).display;\n",
       "        if (!display || display === 'none') {{\n",
       "            console.log([gd, 'removed!']);\n",
       "            Plotly.purge(gd);\n",
       "            observer.disconnect();\n",
       "        }}\n",
       "}});\n",
       "\n",
       "// Listen for the removal of the full notebook cells\n",
       "var notebookContainer = gd.closest('#notebook-container');\n",
       "if (notebookContainer) {{\n",
       "    x.observe(notebookContainer, {childList: true});\n",
       "}}\n",
       "\n",
       "// Listen for the clearing of the current output cell\n",
       "var outputEl = gd.closest('.output');\n",
       "if (outputEl) {{\n",
       "    x.observe(outputEl, {childList: true});\n",
       "}}\n",
       "\n",
       "                        })                };                });            </script>        </div>"
      ]
     },
     "metadata": {},
     "output_type": "display_data"
    }
   ],
   "source": [
    "cs['polarity'].iplot(\n",
    "    kind='hist',\n",
    "    bins=50,\n",
    "    xTitle='polarity',\n",
    "    linecolor='black',\n",
    "    yTitle='count',\n",
    "    title='Sentiment Polarity Distribution')"
   ]
  },
  {
   "cell_type": "code",
   "execution_count": 21,
   "metadata": {
    "ExecuteTime": {
     "end_time": "2020-09-18T00:28:33.592837Z",
     "start_time": "2020-09-18T00:28:33.531967Z"
    }
   },
   "outputs": [
    {
     "data": {
      "application/vnd.plotly.v1+json": {
       "config": {
        "linkText": "Export to plot.ly",
        "plotlyServerURL": "https://plot.ly",
        "showLink": true
       },
       "data": [
        {
         "histfunc": "count",
         "histnorm": "",
         "marker": {
          "color": "rgba(255, 153, 51, 1.0)",
          "line": {
           "color": "#000000",
           "width": 1.3
          }
         },
         "name": "sen_len",
         "nbinsx": 100,
         "opacity": 0.8,
         "orientation": "v",
         "type": "histogram",
         "x": [
          1378,
          504,
          836,
          1197,
          270,
          668,
          528,
          487,
          360,
          230,
          1673,
          1272,
          150,
          530,
          764,
          375,
          2412,
          365,
          311,
          5922,
          382,
          413,
          143,
          59,
          2113,
          344,
          1192,
          1735,
          163,
          382,
          1336,
          1178,
          221,
          254,
          440,
          34,
          616,
          380,
          1230,
          1134,
          341,
          232,
          255,
          60,
          251,
          230,
          140,
          290,
          137,
          128,
          207,
          457,
          60,
          119,
          338,
          219,
          270,
          311,
          386,
          438,
          417,
          466,
          422,
          288,
          164,
          930,
          521,
          178,
          436,
          611,
          481,
          1202,
          201,
          459,
          739,
          235,
          93,
          467,
          72,
          363,
          195,
          347,
          73,
          37,
          255,
          285,
          169,
          123,
          436,
          740,
          364,
          1071,
          135,
          288,
          24,
          438,
          218,
          794,
          146,
          285,
          345,
          69,
          201,
          305,
          2854,
          562,
          225,
          321,
          434,
          51,
          827,
          439,
          1759,
          344,
          364,
          72,
          572,
          216,
          99,
          984,
          511,
          330,
          148,
          429,
          161,
          917,
          549,
          349,
          154,
          408,
          154,
          658,
          382,
          1933,
          670,
          108,
          692,
          291,
          1125,
          1107,
          418,
          89,
          527,
          87,
          1275,
          183,
          2265,
          1633,
          1386,
          273,
          141,
          441,
          467,
          434,
          155,
          884,
          134,
          480,
          2108,
          129,
          1051,
          386,
          386,
          268,
          150,
          258,
          425,
          177,
          157,
          3560,
          1475,
          237,
          196,
          718,
          846,
          1437,
          103,
          468,
          1281,
          634,
          499,
          449,
          262,
          443,
          471,
          347,
          395,
          537,
          744,
          1582,
          79,
          73,
          912,
          1282,
          524,
          670,
          108,
          692,
          291,
          1125,
          1107,
          418,
          89,
          527,
          87,
          1275,
          183,
          2265,
          1633,
          1386,
          273,
          141,
          441,
          467,
          434,
          155,
          884,
          134,
          480,
          2108,
          129,
          1051,
          386,
          386,
          268,
          150,
          258,
          425,
          177,
          157,
          3560,
          1475,
          237,
          196,
          718,
          341,
          232,
          255,
          60,
          251,
          230,
          140,
          290,
          137,
          128,
          207,
          457,
          60,
          119,
          66,
          51,
          73,
          50,
          76,
          86,
          19,
          30,
          31,
          60,
          57,
          43,
          36,
          43,
          141,
          93,
          28,
          57,
          82,
          60,
          26,
          37,
          47,
          24,
          79,
          79,
          24,
          49,
          38,
          38,
          45,
          86,
          72,
          127,
          41,
          64,
          115,
          127,
          27,
          71,
          19,
          49,
          41,
          67,
          88,
          57,
          59,
          135,
          67,
          22,
          52,
          56,
          21,
          64,
          41,
          33,
          21,
          41,
          139,
          39,
          70,
          59,
          69,
          30,
          51,
          66,
          32,
          47,
          43,
          96,
          31,
          44,
          33,
          104,
          69,
          110,
          31,
          58,
          42,
          24,
          147,
          73,
          125,
          28,
          75,
          43,
          126,
          54,
          46,
          66,
          55,
          89,
          53,
          24,
          43,
          26,
          56,
          31,
          171,
          58,
          102,
          49,
          84,
          40,
          48,
          69,
          38,
          44,
          55,
          66,
          52,
          46,
          47,
          29,
          43,
          52,
          77,
          55,
          87,
          67,
          49,
          66,
          49,
          45,
          44,
          96,
          34,
          66,
          96,
          32,
          31,
          31,
          39,
          58,
          69,
          29,
          50,
          71,
          28,
          40,
          36,
          35,
          52,
          28,
          96,
          61,
          40,
          124,
          60,
          73,
          35,
          39,
          36,
          48,
          22,
          35,
          120,
          50,
          69,
          40,
          35,
          150,
          46,
          42,
          57,
          53,
          60,
          91,
          38,
          86,
          52,
          41,
          40,
          63,
          44,
          36,
          35,
          61,
          44,
          16,
          39,
          38,
          71,
          36,
          66,
          119,
          63,
          104,
          55,
          57,
          45,
          35,
          33,
          89,
          45,
          48,
          51,
          49,
          40,
          90,
          51,
          98,
          47,
          35,
          142,
          95,
          34,
          64,
          85,
          28,
          118,
          195,
          98,
          55,
          88,
          31,
          72,
          49,
          47,
          34,
          25,
          20,
          28,
          62,
          53,
          68,
          83,
          33,
          54,
          79,
          50,
          49,
          110,
          25,
          79,
          42,
          42,
          62,
          60,
          77,
          51,
          167,
          67,
          57,
          71,
          32,
          28,
          26,
          132,
          74
         ]
        }
       ],
       "layout": {
        "barmode": "overlay",
        "legend": {
         "bgcolor": "#F5F6F9",
         "font": {
          "color": "#4D5663"
         }
        },
        "paper_bgcolor": "#F5F6F9",
        "plot_bgcolor": "#F5F6F9",
        "template": {
         "data": {
          "bar": [
           {
            "error_x": {
             "color": "#2a3f5f"
            },
            "error_y": {
             "color": "#2a3f5f"
            },
            "marker": {
             "line": {
              "color": "#E5ECF6",
              "width": 0.5
             }
            },
            "type": "bar"
           }
          ],
          "barpolar": [
           {
            "marker": {
             "line": {
              "color": "#E5ECF6",
              "width": 0.5
             }
            },
            "type": "barpolar"
           }
          ],
          "carpet": [
           {
            "aaxis": {
             "endlinecolor": "#2a3f5f",
             "gridcolor": "white",
             "linecolor": "white",
             "minorgridcolor": "white",
             "startlinecolor": "#2a3f5f"
            },
            "baxis": {
             "endlinecolor": "#2a3f5f",
             "gridcolor": "white",
             "linecolor": "white",
             "minorgridcolor": "white",
             "startlinecolor": "#2a3f5f"
            },
            "type": "carpet"
           }
          ],
          "choropleth": [
           {
            "colorbar": {
             "outlinewidth": 0,
             "ticks": ""
            },
            "type": "choropleth"
           }
          ],
          "contour": [
           {
            "colorbar": {
             "outlinewidth": 0,
             "ticks": ""
            },
            "colorscale": [
             [
              0,
              "#0d0887"
             ],
             [
              0.1111111111111111,
              "#46039f"
             ],
             [
              0.2222222222222222,
              "#7201a8"
             ],
             [
              0.3333333333333333,
              "#9c179e"
             ],
             [
              0.4444444444444444,
              "#bd3786"
             ],
             [
              0.5555555555555556,
              "#d8576b"
             ],
             [
              0.6666666666666666,
              "#ed7953"
             ],
             [
              0.7777777777777778,
              "#fb9f3a"
             ],
             [
              0.8888888888888888,
              "#fdca26"
             ],
             [
              1,
              "#f0f921"
             ]
            ],
            "type": "contour"
           }
          ],
          "contourcarpet": [
           {
            "colorbar": {
             "outlinewidth": 0,
             "ticks": ""
            },
            "type": "contourcarpet"
           }
          ],
          "heatmap": [
           {
            "colorbar": {
             "outlinewidth": 0,
             "ticks": ""
            },
            "colorscale": [
             [
              0,
              "#0d0887"
             ],
             [
              0.1111111111111111,
              "#46039f"
             ],
             [
              0.2222222222222222,
              "#7201a8"
             ],
             [
              0.3333333333333333,
              "#9c179e"
             ],
             [
              0.4444444444444444,
              "#bd3786"
             ],
             [
              0.5555555555555556,
              "#d8576b"
             ],
             [
              0.6666666666666666,
              "#ed7953"
             ],
             [
              0.7777777777777778,
              "#fb9f3a"
             ],
             [
              0.8888888888888888,
              "#fdca26"
             ],
             [
              1,
              "#f0f921"
             ]
            ],
            "type": "heatmap"
           }
          ],
          "heatmapgl": [
           {
            "colorbar": {
             "outlinewidth": 0,
             "ticks": ""
            },
            "colorscale": [
             [
              0,
              "#0d0887"
             ],
             [
              0.1111111111111111,
              "#46039f"
             ],
             [
              0.2222222222222222,
              "#7201a8"
             ],
             [
              0.3333333333333333,
              "#9c179e"
             ],
             [
              0.4444444444444444,
              "#bd3786"
             ],
             [
              0.5555555555555556,
              "#d8576b"
             ],
             [
              0.6666666666666666,
              "#ed7953"
             ],
             [
              0.7777777777777778,
              "#fb9f3a"
             ],
             [
              0.8888888888888888,
              "#fdca26"
             ],
             [
              1,
              "#f0f921"
             ]
            ],
            "type": "heatmapgl"
           }
          ],
          "histogram": [
           {
            "marker": {
             "colorbar": {
              "outlinewidth": 0,
              "ticks": ""
             }
            },
            "type": "histogram"
           }
          ],
          "histogram2d": [
           {
            "colorbar": {
             "outlinewidth": 0,
             "ticks": ""
            },
            "colorscale": [
             [
              0,
              "#0d0887"
             ],
             [
              0.1111111111111111,
              "#46039f"
             ],
             [
              0.2222222222222222,
              "#7201a8"
             ],
             [
              0.3333333333333333,
              "#9c179e"
             ],
             [
              0.4444444444444444,
              "#bd3786"
             ],
             [
              0.5555555555555556,
              "#d8576b"
             ],
             [
              0.6666666666666666,
              "#ed7953"
             ],
             [
              0.7777777777777778,
              "#fb9f3a"
             ],
             [
              0.8888888888888888,
              "#fdca26"
             ],
             [
              1,
              "#f0f921"
             ]
            ],
            "type": "histogram2d"
           }
          ],
          "histogram2dcontour": [
           {
            "colorbar": {
             "outlinewidth": 0,
             "ticks": ""
            },
            "colorscale": [
             [
              0,
              "#0d0887"
             ],
             [
              0.1111111111111111,
              "#46039f"
             ],
             [
              0.2222222222222222,
              "#7201a8"
             ],
             [
              0.3333333333333333,
              "#9c179e"
             ],
             [
              0.4444444444444444,
              "#bd3786"
             ],
             [
              0.5555555555555556,
              "#d8576b"
             ],
             [
              0.6666666666666666,
              "#ed7953"
             ],
             [
              0.7777777777777778,
              "#fb9f3a"
             ],
             [
              0.8888888888888888,
              "#fdca26"
             ],
             [
              1,
              "#f0f921"
             ]
            ],
            "type": "histogram2dcontour"
           }
          ],
          "mesh3d": [
           {
            "colorbar": {
             "outlinewidth": 0,
             "ticks": ""
            },
            "type": "mesh3d"
           }
          ],
          "parcoords": [
           {
            "line": {
             "colorbar": {
              "outlinewidth": 0,
              "ticks": ""
             }
            },
            "type": "parcoords"
           }
          ],
          "pie": [
           {
            "automargin": true,
            "type": "pie"
           }
          ],
          "scatter": [
           {
            "marker": {
             "colorbar": {
              "outlinewidth": 0,
              "ticks": ""
             }
            },
            "type": "scatter"
           }
          ],
          "scatter3d": [
           {
            "line": {
             "colorbar": {
              "outlinewidth": 0,
              "ticks": ""
             }
            },
            "marker": {
             "colorbar": {
              "outlinewidth": 0,
              "ticks": ""
             }
            },
            "type": "scatter3d"
           }
          ],
          "scattercarpet": [
           {
            "marker": {
             "colorbar": {
              "outlinewidth": 0,
              "ticks": ""
             }
            },
            "type": "scattercarpet"
           }
          ],
          "scattergeo": [
           {
            "marker": {
             "colorbar": {
              "outlinewidth": 0,
              "ticks": ""
             }
            },
            "type": "scattergeo"
           }
          ],
          "scattergl": [
           {
            "marker": {
             "colorbar": {
              "outlinewidth": 0,
              "ticks": ""
             }
            },
            "type": "scattergl"
           }
          ],
          "scattermapbox": [
           {
            "marker": {
             "colorbar": {
              "outlinewidth": 0,
              "ticks": ""
             }
            },
            "type": "scattermapbox"
           }
          ],
          "scatterpolar": [
           {
            "marker": {
             "colorbar": {
              "outlinewidth": 0,
              "ticks": ""
             }
            },
            "type": "scatterpolar"
           }
          ],
          "scatterpolargl": [
           {
            "marker": {
             "colorbar": {
              "outlinewidth": 0,
              "ticks": ""
             }
            },
            "type": "scatterpolargl"
           }
          ],
          "scatterternary": [
           {
            "marker": {
             "colorbar": {
              "outlinewidth": 0,
              "ticks": ""
             }
            },
            "type": "scatterternary"
           }
          ],
          "surface": [
           {
            "colorbar": {
             "outlinewidth": 0,
             "ticks": ""
            },
            "colorscale": [
             [
              0,
              "#0d0887"
             ],
             [
              0.1111111111111111,
              "#46039f"
             ],
             [
              0.2222222222222222,
              "#7201a8"
             ],
             [
              0.3333333333333333,
              "#9c179e"
             ],
             [
              0.4444444444444444,
              "#bd3786"
             ],
             [
              0.5555555555555556,
              "#d8576b"
             ],
             [
              0.6666666666666666,
              "#ed7953"
             ],
             [
              0.7777777777777778,
              "#fb9f3a"
             ],
             [
              0.8888888888888888,
              "#fdca26"
             ],
             [
              1,
              "#f0f921"
             ]
            ],
            "type": "surface"
           }
          ],
          "table": [
           {
            "cells": {
             "fill": {
              "color": "#EBF0F8"
             },
             "line": {
              "color": "white"
             }
            },
            "header": {
             "fill": {
              "color": "#C8D4E3"
             },
             "line": {
              "color": "white"
             }
            },
            "type": "table"
           }
          ]
         },
         "layout": {
          "annotationdefaults": {
           "arrowcolor": "#2a3f5f",
           "arrowhead": 0,
           "arrowwidth": 1
          },
          "coloraxis": {
           "colorbar": {
            "outlinewidth": 0,
            "ticks": ""
           }
          },
          "colorscale": {
           "diverging": [
            [
             0,
             "#8e0152"
            ],
            [
             0.1,
             "#c51b7d"
            ],
            [
             0.2,
             "#de77ae"
            ],
            [
             0.3,
             "#f1b6da"
            ],
            [
             0.4,
             "#fde0ef"
            ],
            [
             0.5,
             "#f7f7f7"
            ],
            [
             0.6,
             "#e6f5d0"
            ],
            [
             0.7,
             "#b8e186"
            ],
            [
             0.8,
             "#7fbc41"
            ],
            [
             0.9,
             "#4d9221"
            ],
            [
             1,
             "#276419"
            ]
           ],
           "sequential": [
            [
             0,
             "#0d0887"
            ],
            [
             0.1111111111111111,
             "#46039f"
            ],
            [
             0.2222222222222222,
             "#7201a8"
            ],
            [
             0.3333333333333333,
             "#9c179e"
            ],
            [
             0.4444444444444444,
             "#bd3786"
            ],
            [
             0.5555555555555556,
             "#d8576b"
            ],
            [
             0.6666666666666666,
             "#ed7953"
            ],
            [
             0.7777777777777778,
             "#fb9f3a"
            ],
            [
             0.8888888888888888,
             "#fdca26"
            ],
            [
             1,
             "#f0f921"
            ]
           ],
           "sequentialminus": [
            [
             0,
             "#0d0887"
            ],
            [
             0.1111111111111111,
             "#46039f"
            ],
            [
             0.2222222222222222,
             "#7201a8"
            ],
            [
             0.3333333333333333,
             "#9c179e"
            ],
            [
             0.4444444444444444,
             "#bd3786"
            ],
            [
             0.5555555555555556,
             "#d8576b"
            ],
            [
             0.6666666666666666,
             "#ed7953"
            ],
            [
             0.7777777777777778,
             "#fb9f3a"
            ],
            [
             0.8888888888888888,
             "#fdca26"
            ],
            [
             1,
             "#f0f921"
            ]
           ]
          },
          "colorway": [
           "#636efa",
           "#EF553B",
           "#00cc96",
           "#ab63fa",
           "#FFA15A",
           "#19d3f3",
           "#FF6692",
           "#B6E880",
           "#FF97FF",
           "#FECB52"
          ],
          "font": {
           "color": "#2a3f5f"
          },
          "geo": {
           "bgcolor": "white",
           "lakecolor": "white",
           "landcolor": "#E5ECF6",
           "showlakes": true,
           "showland": true,
           "subunitcolor": "white"
          },
          "hoverlabel": {
           "align": "left"
          },
          "hovermode": "closest",
          "mapbox": {
           "style": "light"
          },
          "paper_bgcolor": "white",
          "plot_bgcolor": "#E5ECF6",
          "polar": {
           "angularaxis": {
            "gridcolor": "white",
            "linecolor": "white",
            "ticks": ""
           },
           "bgcolor": "#E5ECF6",
           "radialaxis": {
            "gridcolor": "white",
            "linecolor": "white",
            "ticks": ""
           }
          },
          "scene": {
           "xaxis": {
            "backgroundcolor": "#E5ECF6",
            "gridcolor": "white",
            "gridwidth": 2,
            "linecolor": "white",
            "showbackground": true,
            "ticks": "",
            "zerolinecolor": "white"
           },
           "yaxis": {
            "backgroundcolor": "#E5ECF6",
            "gridcolor": "white",
            "gridwidth": 2,
            "linecolor": "white",
            "showbackground": true,
            "ticks": "",
            "zerolinecolor": "white"
           },
           "zaxis": {
            "backgroundcolor": "#E5ECF6",
            "gridcolor": "white",
            "gridwidth": 2,
            "linecolor": "white",
            "showbackground": true,
            "ticks": "",
            "zerolinecolor": "white"
           }
          },
          "shapedefaults": {
           "line": {
            "color": "#2a3f5f"
           }
          },
          "ternary": {
           "aaxis": {
            "gridcolor": "white",
            "linecolor": "white",
            "ticks": ""
           },
           "baxis": {
            "gridcolor": "white",
            "linecolor": "white",
            "ticks": ""
           },
           "bgcolor": "#E5ECF6",
           "caxis": {
            "gridcolor": "white",
            "linecolor": "white",
            "ticks": ""
           }
          },
          "title": {
           "x": 0.05
          },
          "xaxis": {
           "automargin": true,
           "gridcolor": "white",
           "linecolor": "white",
           "ticks": "",
           "title": {
            "standoff": 15
           },
           "zerolinecolor": "white",
           "zerolinewidth": 2
          },
          "yaxis": {
           "automargin": true,
           "gridcolor": "white",
           "linecolor": "white",
           "ticks": "",
           "title": {
            "standoff": 15
           },
           "zerolinecolor": "white",
           "zerolinewidth": 2
          }
         }
        },
        "title": {
         "font": {
          "color": "#4D5663"
         },
         "text": "Review Text Length Distribution"
        },
        "xaxis": {
         "gridcolor": "#E1E5ED",
         "linecolor": "black",
         "showgrid": true,
         "tickfont": {
          "color": "#4D5663"
         },
         "title": {
          "font": {
           "color": "#4D5663"
          },
          "text": "review length"
         },
         "zerolinecolor": "#E1E5ED"
        },
        "yaxis": {
         "gridcolor": "#E1E5ED",
         "linecolor": "black",
         "showgrid": true,
         "tickfont": {
          "color": "#4D5663"
         },
         "title": {
          "font": {
           "color": "#4D5663"
          },
          "text": "count"
         },
         "zerolinecolor": "#E1E5ED"
        }
       }
      },
      "text/html": [
       "<div>                            <div id=\"90e17918-593b-4f81-9f33-abc8acd71837\" class=\"plotly-graph-div\" style=\"height:525px; width:100%;\"></div>            <script type=\"text/javascript\">                require([\"plotly\"], function(Plotly) {                    window.PLOTLYENV=window.PLOTLYENV || {};\n",
       "                    window.PLOTLYENV.BASE_URL='https://plot.ly';                                    if (document.getElementById(\"90e17918-593b-4f81-9f33-abc8acd71837\")) {                    Plotly.newPlot(                        \"90e17918-593b-4f81-9f33-abc8acd71837\",                        [{\"histfunc\": \"count\", \"histnorm\": \"\", \"marker\": {\"color\": \"rgba(255, 153, 51, 1.0)\", \"line\": {\"color\": \"#000000\", \"width\": 1.3}}, \"name\": \"sen_len\", \"nbinsx\": 100, \"opacity\": 0.8, \"orientation\": \"v\", \"type\": \"histogram\", \"x\": [1378, 504, 836, 1197, 270, 668, 528, 487, 360, 230, 1673, 1272, 150, 530, 764, 375, 2412, 365, 311, 5922, 382, 413, 143, 59, 2113, 344, 1192, 1735, 163, 382, 1336, 1178, 221, 254, 440, 34, 616, 380, 1230, 1134, 341, 232, 255, 60, 251, 230, 140, 290, 137, 128, 207, 457, 60, 119, 338, 219, 270, 311, 386, 438, 417, 466, 422, 288, 164, 930, 521, 178, 436, 611, 481, 1202, 201, 459, 739, 235, 93, 467, 72, 363, 195, 347, 73, 37, 255, 285, 169, 123, 436, 740, 364, 1071, 135, 288, 24, 438, 218, 794, 146, 285, 345, 69, 201, 305, 2854, 562, 225, 321, 434, 51, 827, 439, 1759, 344, 364, 72, 572, 216, 99, 984, 511, 330, 148, 429, 161, 917, 549, 349, 154, 408, 154, 658, 382, 1933, 670, 108, 692, 291, 1125, 1107, 418, 89, 527, 87, 1275, 183, 2265, 1633, 1386, 273, 141, 441, 467, 434, 155, 884, 134, 480, 2108, 129, 1051, 386, 386, 268, 150, 258, 425, 177, 157, 3560, 1475, 237, 196, 718, 846, 1437, 103, 468, 1281, 634, 499, 449, 262, 443, 471, 347, 395, 537, 744, 1582, 79, 73, 912, 1282, 524, 670, 108, 692, 291, 1125, 1107, 418, 89, 527, 87, 1275, 183, 2265, 1633, 1386, 273, 141, 441, 467, 434, 155, 884, 134, 480, 2108, 129, 1051, 386, 386, 268, 150, 258, 425, 177, 157, 3560, 1475, 237, 196, 718, 341, 232, 255, 60, 251, 230, 140, 290, 137, 128, 207, 457, 60, 119, 66, 51, 73, 50, 76, 86, 19, 30, 31, 60, 57, 43, 36, 43, 141, 93, 28, 57, 82, 60, 26, 37, 47, 24, 79, 79, 24, 49, 38, 38, 45, 86, 72, 127, 41, 64, 115, 127, 27, 71, 19, 49, 41, 67, 88, 57, 59, 135, 67, 22, 52, 56, 21, 64, 41, 33, 21, 41, 139, 39, 70, 59, 69, 30, 51, 66, 32, 47, 43, 96, 31, 44, 33, 104, 69, 110, 31, 58, 42, 24, 147, 73, 125, 28, 75, 43, 126, 54, 46, 66, 55, 89, 53, 24, 43, 26, 56, 31, 171, 58, 102, 49, 84, 40, 48, 69, 38, 44, 55, 66, 52, 46, 47, 29, 43, 52, 77, 55, 87, 67, 49, 66, 49, 45, 44, 96, 34, 66, 96, 32, 31, 31, 39, 58, 69, 29, 50, 71, 28, 40, 36, 35, 52, 28, 96, 61, 40, 124, 60, 73, 35, 39, 36, 48, 22, 35, 120, 50, 69, 40, 35, 150, 46, 42, 57, 53, 60, 91, 38, 86, 52, 41, 40, 63, 44, 36, 35, 61, 44, 16, 39, 38, 71, 36, 66, 119, 63, 104, 55, 57, 45, 35, 33, 89, 45, 48, 51, 49, 40, 90, 51, 98, 47, 35, 142, 95, 34, 64, 85, 28, 118, 195, 98, 55, 88, 31, 72, 49, 47, 34, 25, 20, 28, 62, 53, 68, 83, 33, 54, 79, 50, 49, 110, 25, 79, 42, 42, 62, 60, 77, 51, 167, 67, 57, 71, 32, 28, 26, 132, 74]}],                        {\"barmode\": \"overlay\", \"legend\": {\"bgcolor\": \"#F5F6F9\", \"font\": {\"color\": \"#4D5663\"}}, \"paper_bgcolor\": \"#F5F6F9\", \"plot_bgcolor\": \"#F5F6F9\", \"template\": {\"data\": {\"bar\": [{\"error_x\": {\"color\": \"#2a3f5f\"}, \"error_y\": {\"color\": \"#2a3f5f\"}, \"marker\": {\"line\": {\"color\": \"#E5ECF6\", \"width\": 0.5}}, \"type\": \"bar\"}], \"barpolar\": [{\"marker\": {\"line\": {\"color\": \"#E5ECF6\", \"width\": 0.5}}, \"type\": \"barpolar\"}], \"carpet\": [{\"aaxis\": {\"endlinecolor\": \"#2a3f5f\", \"gridcolor\": \"white\", \"linecolor\": \"white\", \"minorgridcolor\": \"white\", \"startlinecolor\": \"#2a3f5f\"}, \"baxis\": {\"endlinecolor\": \"#2a3f5f\", \"gridcolor\": \"white\", \"linecolor\": \"white\", \"minorgridcolor\": \"white\", \"startlinecolor\": \"#2a3f5f\"}, \"type\": \"carpet\"}], \"choropleth\": [{\"colorbar\": {\"outlinewidth\": 0, \"ticks\": \"\"}, \"type\": \"choropleth\"}], \"contour\": [{\"colorbar\": {\"outlinewidth\": 0, \"ticks\": \"\"}, \"colorscale\": [[0.0, \"#0d0887\"], [0.1111111111111111, \"#46039f\"], [0.2222222222222222, \"#7201a8\"], [0.3333333333333333, \"#9c179e\"], [0.4444444444444444, \"#bd3786\"], [0.5555555555555556, \"#d8576b\"], [0.6666666666666666, \"#ed7953\"], [0.7777777777777778, \"#fb9f3a\"], [0.8888888888888888, \"#fdca26\"], [1.0, \"#f0f921\"]], \"type\": \"contour\"}], \"contourcarpet\": [{\"colorbar\": {\"outlinewidth\": 0, \"ticks\": \"\"}, \"type\": \"contourcarpet\"}], \"heatmap\": [{\"colorbar\": {\"outlinewidth\": 0, \"ticks\": \"\"}, \"colorscale\": [[0.0, \"#0d0887\"], [0.1111111111111111, \"#46039f\"], [0.2222222222222222, \"#7201a8\"], [0.3333333333333333, \"#9c179e\"], [0.4444444444444444, \"#bd3786\"], [0.5555555555555556, \"#d8576b\"], [0.6666666666666666, \"#ed7953\"], [0.7777777777777778, \"#fb9f3a\"], [0.8888888888888888, \"#fdca26\"], [1.0, \"#f0f921\"]], \"type\": \"heatmap\"}], \"heatmapgl\": [{\"colorbar\": {\"outlinewidth\": 0, \"ticks\": \"\"}, \"colorscale\": [[0.0, \"#0d0887\"], [0.1111111111111111, \"#46039f\"], [0.2222222222222222, \"#7201a8\"], [0.3333333333333333, \"#9c179e\"], [0.4444444444444444, \"#bd3786\"], [0.5555555555555556, \"#d8576b\"], [0.6666666666666666, \"#ed7953\"], [0.7777777777777778, \"#fb9f3a\"], [0.8888888888888888, \"#fdca26\"], [1.0, \"#f0f921\"]], \"type\": \"heatmapgl\"}], \"histogram\": [{\"marker\": {\"colorbar\": {\"outlinewidth\": 0, \"ticks\": \"\"}}, \"type\": \"histogram\"}], \"histogram2d\": [{\"colorbar\": {\"outlinewidth\": 0, \"ticks\": \"\"}, \"colorscale\": [[0.0, \"#0d0887\"], [0.1111111111111111, \"#46039f\"], [0.2222222222222222, \"#7201a8\"], [0.3333333333333333, \"#9c179e\"], [0.4444444444444444, \"#bd3786\"], [0.5555555555555556, \"#d8576b\"], [0.6666666666666666, \"#ed7953\"], [0.7777777777777778, \"#fb9f3a\"], [0.8888888888888888, \"#fdca26\"], [1.0, \"#f0f921\"]], \"type\": \"histogram2d\"}], \"histogram2dcontour\": [{\"colorbar\": {\"outlinewidth\": 0, \"ticks\": \"\"}, \"colorscale\": [[0.0, \"#0d0887\"], [0.1111111111111111, \"#46039f\"], [0.2222222222222222, \"#7201a8\"], [0.3333333333333333, \"#9c179e\"], [0.4444444444444444, \"#bd3786\"], [0.5555555555555556, \"#d8576b\"], [0.6666666666666666, \"#ed7953\"], [0.7777777777777778, \"#fb9f3a\"], [0.8888888888888888, \"#fdca26\"], [1.0, \"#f0f921\"]], \"type\": \"histogram2dcontour\"}], \"mesh3d\": [{\"colorbar\": {\"outlinewidth\": 0, \"ticks\": \"\"}, \"type\": \"mesh3d\"}], \"parcoords\": [{\"line\": {\"colorbar\": {\"outlinewidth\": 0, \"ticks\": \"\"}}, \"type\": \"parcoords\"}], \"pie\": [{\"automargin\": true, \"type\": \"pie\"}], \"scatter\": [{\"marker\": {\"colorbar\": {\"outlinewidth\": 0, \"ticks\": \"\"}}, \"type\": \"scatter\"}], \"scatter3d\": [{\"line\": {\"colorbar\": {\"outlinewidth\": 0, \"ticks\": \"\"}}, \"marker\": {\"colorbar\": {\"outlinewidth\": 0, \"ticks\": \"\"}}, \"type\": \"scatter3d\"}], \"scattercarpet\": [{\"marker\": {\"colorbar\": {\"outlinewidth\": 0, \"ticks\": \"\"}}, \"type\": \"scattercarpet\"}], \"scattergeo\": [{\"marker\": {\"colorbar\": {\"outlinewidth\": 0, \"ticks\": \"\"}}, \"type\": \"scattergeo\"}], \"scattergl\": [{\"marker\": {\"colorbar\": {\"outlinewidth\": 0, \"ticks\": \"\"}}, \"type\": \"scattergl\"}], \"scattermapbox\": [{\"marker\": {\"colorbar\": {\"outlinewidth\": 0, \"ticks\": \"\"}}, \"type\": \"scattermapbox\"}], \"scatterpolar\": [{\"marker\": {\"colorbar\": {\"outlinewidth\": 0, \"ticks\": \"\"}}, \"type\": \"scatterpolar\"}], \"scatterpolargl\": [{\"marker\": {\"colorbar\": {\"outlinewidth\": 0, \"ticks\": \"\"}}, \"type\": \"scatterpolargl\"}], \"scatterternary\": [{\"marker\": {\"colorbar\": {\"outlinewidth\": 0, \"ticks\": \"\"}}, \"type\": \"scatterternary\"}], \"surface\": [{\"colorbar\": {\"outlinewidth\": 0, \"ticks\": \"\"}, \"colorscale\": [[0.0, \"#0d0887\"], [0.1111111111111111, \"#46039f\"], [0.2222222222222222, \"#7201a8\"], [0.3333333333333333, \"#9c179e\"], [0.4444444444444444, \"#bd3786\"], [0.5555555555555556, \"#d8576b\"], [0.6666666666666666, \"#ed7953\"], [0.7777777777777778, \"#fb9f3a\"], [0.8888888888888888, \"#fdca26\"], [1.0, \"#f0f921\"]], \"type\": \"surface\"}], \"table\": [{\"cells\": {\"fill\": {\"color\": \"#EBF0F8\"}, \"line\": {\"color\": \"white\"}}, \"header\": {\"fill\": {\"color\": \"#C8D4E3\"}, \"line\": {\"color\": \"white\"}}, \"type\": \"table\"}]}, \"layout\": {\"annotationdefaults\": {\"arrowcolor\": \"#2a3f5f\", \"arrowhead\": 0, \"arrowwidth\": 1}, \"coloraxis\": {\"colorbar\": {\"outlinewidth\": 0, \"ticks\": \"\"}}, \"colorscale\": {\"diverging\": [[0, \"#8e0152\"], [0.1, \"#c51b7d\"], [0.2, \"#de77ae\"], [0.3, \"#f1b6da\"], [0.4, \"#fde0ef\"], [0.5, \"#f7f7f7\"], [0.6, \"#e6f5d0\"], [0.7, \"#b8e186\"], [0.8, \"#7fbc41\"], [0.9, \"#4d9221\"], [1, \"#276419\"]], \"sequential\": [[0.0, \"#0d0887\"], [0.1111111111111111, \"#46039f\"], [0.2222222222222222, \"#7201a8\"], [0.3333333333333333, \"#9c179e\"], [0.4444444444444444, \"#bd3786\"], [0.5555555555555556, \"#d8576b\"], [0.6666666666666666, \"#ed7953\"], [0.7777777777777778, \"#fb9f3a\"], [0.8888888888888888, \"#fdca26\"], [1.0, \"#f0f921\"]], \"sequentialminus\": [[0.0, \"#0d0887\"], [0.1111111111111111, \"#46039f\"], [0.2222222222222222, \"#7201a8\"], [0.3333333333333333, \"#9c179e\"], [0.4444444444444444, \"#bd3786\"], [0.5555555555555556, \"#d8576b\"], [0.6666666666666666, \"#ed7953\"], [0.7777777777777778, \"#fb9f3a\"], [0.8888888888888888, \"#fdca26\"], [1.0, \"#f0f921\"]]}, \"colorway\": [\"#636efa\", \"#EF553B\", \"#00cc96\", \"#ab63fa\", \"#FFA15A\", \"#19d3f3\", \"#FF6692\", \"#B6E880\", \"#FF97FF\", \"#FECB52\"], \"font\": {\"color\": \"#2a3f5f\"}, \"geo\": {\"bgcolor\": \"white\", \"lakecolor\": \"white\", \"landcolor\": \"#E5ECF6\", \"showlakes\": true, \"showland\": true, \"subunitcolor\": \"white\"}, \"hoverlabel\": {\"align\": \"left\"}, \"hovermode\": \"closest\", \"mapbox\": {\"style\": \"light\"}, \"paper_bgcolor\": \"white\", \"plot_bgcolor\": \"#E5ECF6\", \"polar\": {\"angularaxis\": {\"gridcolor\": \"white\", \"linecolor\": \"white\", \"ticks\": \"\"}, \"bgcolor\": \"#E5ECF6\", \"radialaxis\": {\"gridcolor\": \"white\", \"linecolor\": \"white\", \"ticks\": \"\"}}, \"scene\": {\"xaxis\": {\"backgroundcolor\": \"#E5ECF6\", \"gridcolor\": \"white\", \"gridwidth\": 2, \"linecolor\": \"white\", \"showbackground\": true, \"ticks\": \"\", \"zerolinecolor\": \"white\"}, \"yaxis\": {\"backgroundcolor\": \"#E5ECF6\", \"gridcolor\": \"white\", \"gridwidth\": 2, \"linecolor\": \"white\", \"showbackground\": true, \"ticks\": \"\", \"zerolinecolor\": \"white\"}, \"zaxis\": {\"backgroundcolor\": \"#E5ECF6\", \"gridcolor\": \"white\", \"gridwidth\": 2, \"linecolor\": \"white\", \"showbackground\": true, \"ticks\": \"\", \"zerolinecolor\": \"white\"}}, \"shapedefaults\": {\"line\": {\"color\": \"#2a3f5f\"}}, \"ternary\": {\"aaxis\": {\"gridcolor\": \"white\", \"linecolor\": \"white\", \"ticks\": \"\"}, \"baxis\": {\"gridcolor\": \"white\", \"linecolor\": \"white\", \"ticks\": \"\"}, \"bgcolor\": \"#E5ECF6\", \"caxis\": {\"gridcolor\": \"white\", \"linecolor\": \"white\", \"ticks\": \"\"}}, \"title\": {\"x\": 0.05}, \"xaxis\": {\"automargin\": true, \"gridcolor\": \"white\", \"linecolor\": \"white\", \"ticks\": \"\", \"title\": {\"standoff\": 15}, \"zerolinecolor\": \"white\", \"zerolinewidth\": 2}, \"yaxis\": {\"automargin\": true, \"gridcolor\": \"white\", \"linecolor\": \"white\", \"ticks\": \"\", \"title\": {\"standoff\": 15}, \"zerolinecolor\": \"white\", \"zerolinewidth\": 2}}}, \"title\": {\"font\": {\"color\": \"#4D5663\"}, \"text\": \"Review Text Length Distribution\"}, \"xaxis\": {\"gridcolor\": \"#E1E5ED\", \"linecolor\": \"black\", \"showgrid\": true, \"tickfont\": {\"color\": \"#4D5663\"}, \"title\": {\"font\": {\"color\": \"#4D5663\"}, \"text\": \"review length\"}, \"zerolinecolor\": \"#E1E5ED\"}, \"yaxis\": {\"gridcolor\": \"#E1E5ED\", \"linecolor\": \"black\", \"showgrid\": true, \"tickfont\": {\"color\": \"#4D5663\"}, \"title\": {\"font\": {\"color\": \"#4D5663\"}, \"text\": \"count\"}, \"zerolinecolor\": \"#E1E5ED\"}},                        {\"showLink\": true, \"linkText\": \"Export to plot.ly\", \"plotlyServerURL\": \"https://plot.ly\", \"responsive\": true}                    ).then(function(){\n",
       "                            \n",
       "var gd = document.getElementById('90e17918-593b-4f81-9f33-abc8acd71837');\n",
       "var x = new MutationObserver(function (mutations, observer) {{\n",
       "        var display = window.getComputedStyle(gd).display;\n",
       "        if (!display || display === 'none') {{\n",
       "            console.log([gd, 'removed!']);\n",
       "            Plotly.purge(gd);\n",
       "            observer.disconnect();\n",
       "        }}\n",
       "}});\n",
       "\n",
       "// Listen for the removal of the full notebook cells\n",
       "var notebookContainer = gd.closest('#notebook-container');\n",
       "if (notebookContainer) {{\n",
       "    x.observe(notebookContainer, {childList: true});\n",
       "}}\n",
       "\n",
       "// Listen for the clearing of the current output cell\n",
       "var outputEl = gd.closest('.output');\n",
       "if (outputEl) {{\n",
       "    x.observe(outputEl, {childList: true});\n",
       "}}\n",
       "\n",
       "                        })                };                });            </script>        </div>"
      ]
     },
     "metadata": {},
     "output_type": "display_data"
    }
   ],
   "source": [
    "cs['sen_len'].iplot(\n",
    "    kind='hist',\n",
    "    bins=100,\n",
    "    xTitle='review length',\n",
    "    linecolor='black',\n",
    "    yTitle='count',\n",
    "    title='Review Text Length Distribution')"
   ]
  },
  {
   "cell_type": "code",
   "execution_count": 22,
   "metadata": {
    "ExecuteTime": {
     "end_time": "2020-09-18T00:28:33.639678Z",
     "start_time": "2020-09-18T00:28:33.594798Z"
    }
   },
   "outputs": [
    {
     "data": {
      "application/vnd.plotly.v1+json": {
       "config": {
        "linkText": "Export to plot.ly",
        "plotlyServerURL": "https://plot.ly",
        "showLink": true
       },
       "data": [
        {
         "histfunc": "count",
         "histnorm": "",
         "marker": {
          "color": "rgba(255, 153, 51, 1.0)",
          "line": {
           "color": "#000000",
           "width": 1.3
          }
         },
         "name": "word_count",
         "nbinsx": 100,
         "opacity": 0.8,
         "orientation": "v",
         "type": "histogram",
         "x": [
          269,
          97,
          158,
          220,
          45,
          132,
          103,
          92,
          55,
          46,
          328,
          243,
          24,
          103,
          152,
          73,
          449,
          76,
          66,
          1151,
          66,
          75,
          25,
          11,
          402,
          65,
          218,
          286,
          33,
          67,
          239,
          233,
          45,
          35,
          78,
          5,
          121,
          69,
          232,
          171,
          68,
          42,
          49,
          13,
          48,
          52,
          29,
          60,
          23,
          26,
          42,
          93,
          11,
          20,
          62,
          46,
          49,
          60,
          68,
          85,
          75,
          83,
          80,
          56,
          27,
          154,
          92,
          30,
          79,
          115,
          97,
          231,
          37,
          90,
          142,
          50,
          19,
          85,
          17,
          62,
          36,
          70,
          13,
          9,
          47,
          55,
          31,
          27,
          89,
          145,
          70,
          212,
          22,
          52,
          5,
          85,
          42,
          148,
          27,
          49,
          63,
          14,
          39,
          52,
          554,
          99,
          41,
          53,
          70,
          10,
          155,
          73,
          330,
          60,
          64,
          16,
          103,
          43,
          19,
          178,
          90,
          66,
          34,
          82,
          29,
          162,
          102,
          65,
          29,
          87,
          30,
          120,
          71,
          376,
          122,
          19,
          131,
          51,
          186,
          203,
          88,
          21,
          107,
          17,
          248,
          37,
          426,
          301,
          249,
          49,
          31,
          80,
          85,
          79,
          33,
          172,
          27,
          90,
          372,
          26,
          221,
          72,
          72,
          55,
          32,
          55,
          83,
          38,
          32,
          651,
          295,
          43,
          38,
          120,
          144,
          260,
          18,
          82,
          249,
          114,
          83,
          94,
          47,
          84,
          84,
          60,
          67,
          97,
          122,
          274,
          18,
          14,
          159,
          242,
          97,
          122,
          19,
          131,
          51,
          186,
          203,
          88,
          21,
          107,
          17,
          248,
          37,
          426,
          301,
          249,
          49,
          31,
          80,
          85,
          79,
          33,
          172,
          27,
          90,
          372,
          26,
          221,
          72,
          72,
          55,
          32,
          55,
          83,
          38,
          32,
          651,
          295,
          43,
          38,
          120,
          68,
          42,
          49,
          13,
          48,
          52,
          29,
          60,
          23,
          26,
          42,
          93,
          11,
          20,
          14,
          8,
          14,
          11,
          13,
          16,
          4,
          7,
          8,
          9,
          9,
          9,
          7,
          7,
          29,
          15,
          4,
          12,
          14,
          9,
          5,
          6,
          9,
          7,
          17,
          14,
          4,
          8,
          8,
          8,
          9,
          16,
          14,
          17,
          8,
          13,
          23,
          25,
          6,
          15,
          4,
          8,
          9,
          16,
          14,
          9,
          11,
          24,
          13,
          5,
          9,
          13,
          5,
          11,
          8,
          7,
          4,
          9,
          26,
          8,
          11,
          14,
          13,
          6,
          9,
          11,
          7,
          8,
          7,
          20,
          6,
          6,
          6,
          16,
          15,
          20,
          6,
          13,
          8,
          5,
          26,
          12,
          25,
          5,
          14,
          9,
          21,
          8,
          9,
          13,
          10,
          13,
          10,
          4,
          6,
          5,
          10,
          6,
          29,
          10,
          19,
          9,
          15,
          8,
          10,
          12,
          7,
          7,
          9,
          11,
          8,
          9,
          9,
          6,
          7,
          13,
          14,
          10,
          14,
          11,
          8,
          12,
          7,
          8,
          7,
          15,
          7,
          12,
          21,
          7,
          5,
          5,
          8,
          12,
          10,
          5,
          9,
          10,
          7,
          7,
          6,
          6,
          10,
          6,
          19,
          10,
          7,
          23,
          12,
          13,
          6,
          8,
          8,
          8,
          4,
          6,
          21,
          10,
          12,
          7,
          7,
          23,
          7,
          9,
          11,
          10,
          8,
          17,
          6,
          16,
          9,
          7,
          8,
          11,
          9,
          7,
          8,
          11,
          7,
          3,
          7,
          8,
          14,
          7,
          12,
          22,
          10,
          22,
          10,
          10,
          8,
          7,
          7,
          18,
          10,
          9,
          6,
          10,
          8,
          16,
          9,
          17,
          8,
          6,
          25,
          21,
          8,
          10,
          15,
          4,
          18,
          34,
          14,
          10,
          15,
          7,
          15,
          9,
          9,
          6,
          6,
          5,
          7,
          10,
          8,
          16,
          16,
          4,
          9,
          16,
          9,
          9,
          20,
          5,
          14,
          7,
          9,
          13,
          12,
          12,
          8,
          35,
          14,
          11,
          13,
          7,
          4,
          6,
          26,
          13
         ]
        }
       ],
       "layout": {
        "barmode": "overlay",
        "legend": {
         "bgcolor": "#F5F6F9",
         "font": {
          "color": "#4D5663"
         }
        },
        "paper_bgcolor": "#F5F6F9",
        "plot_bgcolor": "#F5F6F9",
        "template": {
         "data": {
          "bar": [
           {
            "error_x": {
             "color": "#2a3f5f"
            },
            "error_y": {
             "color": "#2a3f5f"
            },
            "marker": {
             "line": {
              "color": "#E5ECF6",
              "width": 0.5
             }
            },
            "type": "bar"
           }
          ],
          "barpolar": [
           {
            "marker": {
             "line": {
              "color": "#E5ECF6",
              "width": 0.5
             }
            },
            "type": "barpolar"
           }
          ],
          "carpet": [
           {
            "aaxis": {
             "endlinecolor": "#2a3f5f",
             "gridcolor": "white",
             "linecolor": "white",
             "minorgridcolor": "white",
             "startlinecolor": "#2a3f5f"
            },
            "baxis": {
             "endlinecolor": "#2a3f5f",
             "gridcolor": "white",
             "linecolor": "white",
             "minorgridcolor": "white",
             "startlinecolor": "#2a3f5f"
            },
            "type": "carpet"
           }
          ],
          "choropleth": [
           {
            "colorbar": {
             "outlinewidth": 0,
             "ticks": ""
            },
            "type": "choropleth"
           }
          ],
          "contour": [
           {
            "colorbar": {
             "outlinewidth": 0,
             "ticks": ""
            },
            "colorscale": [
             [
              0,
              "#0d0887"
             ],
             [
              0.1111111111111111,
              "#46039f"
             ],
             [
              0.2222222222222222,
              "#7201a8"
             ],
             [
              0.3333333333333333,
              "#9c179e"
             ],
             [
              0.4444444444444444,
              "#bd3786"
             ],
             [
              0.5555555555555556,
              "#d8576b"
             ],
             [
              0.6666666666666666,
              "#ed7953"
             ],
             [
              0.7777777777777778,
              "#fb9f3a"
             ],
             [
              0.8888888888888888,
              "#fdca26"
             ],
             [
              1,
              "#f0f921"
             ]
            ],
            "type": "contour"
           }
          ],
          "contourcarpet": [
           {
            "colorbar": {
             "outlinewidth": 0,
             "ticks": ""
            },
            "type": "contourcarpet"
           }
          ],
          "heatmap": [
           {
            "colorbar": {
             "outlinewidth": 0,
             "ticks": ""
            },
            "colorscale": [
             [
              0,
              "#0d0887"
             ],
             [
              0.1111111111111111,
              "#46039f"
             ],
             [
              0.2222222222222222,
              "#7201a8"
             ],
             [
              0.3333333333333333,
              "#9c179e"
             ],
             [
              0.4444444444444444,
              "#bd3786"
             ],
             [
              0.5555555555555556,
              "#d8576b"
             ],
             [
              0.6666666666666666,
              "#ed7953"
             ],
             [
              0.7777777777777778,
              "#fb9f3a"
             ],
             [
              0.8888888888888888,
              "#fdca26"
             ],
             [
              1,
              "#f0f921"
             ]
            ],
            "type": "heatmap"
           }
          ],
          "heatmapgl": [
           {
            "colorbar": {
             "outlinewidth": 0,
             "ticks": ""
            },
            "colorscale": [
             [
              0,
              "#0d0887"
             ],
             [
              0.1111111111111111,
              "#46039f"
             ],
             [
              0.2222222222222222,
              "#7201a8"
             ],
             [
              0.3333333333333333,
              "#9c179e"
             ],
             [
              0.4444444444444444,
              "#bd3786"
             ],
             [
              0.5555555555555556,
              "#d8576b"
             ],
             [
              0.6666666666666666,
              "#ed7953"
             ],
             [
              0.7777777777777778,
              "#fb9f3a"
             ],
             [
              0.8888888888888888,
              "#fdca26"
             ],
             [
              1,
              "#f0f921"
             ]
            ],
            "type": "heatmapgl"
           }
          ],
          "histogram": [
           {
            "marker": {
             "colorbar": {
              "outlinewidth": 0,
              "ticks": ""
             }
            },
            "type": "histogram"
           }
          ],
          "histogram2d": [
           {
            "colorbar": {
             "outlinewidth": 0,
             "ticks": ""
            },
            "colorscale": [
             [
              0,
              "#0d0887"
             ],
             [
              0.1111111111111111,
              "#46039f"
             ],
             [
              0.2222222222222222,
              "#7201a8"
             ],
             [
              0.3333333333333333,
              "#9c179e"
             ],
             [
              0.4444444444444444,
              "#bd3786"
             ],
             [
              0.5555555555555556,
              "#d8576b"
             ],
             [
              0.6666666666666666,
              "#ed7953"
             ],
             [
              0.7777777777777778,
              "#fb9f3a"
             ],
             [
              0.8888888888888888,
              "#fdca26"
             ],
             [
              1,
              "#f0f921"
             ]
            ],
            "type": "histogram2d"
           }
          ],
          "histogram2dcontour": [
           {
            "colorbar": {
             "outlinewidth": 0,
             "ticks": ""
            },
            "colorscale": [
             [
              0,
              "#0d0887"
             ],
             [
              0.1111111111111111,
              "#46039f"
             ],
             [
              0.2222222222222222,
              "#7201a8"
             ],
             [
              0.3333333333333333,
              "#9c179e"
             ],
             [
              0.4444444444444444,
              "#bd3786"
             ],
             [
              0.5555555555555556,
              "#d8576b"
             ],
             [
              0.6666666666666666,
              "#ed7953"
             ],
             [
              0.7777777777777778,
              "#fb9f3a"
             ],
             [
              0.8888888888888888,
              "#fdca26"
             ],
             [
              1,
              "#f0f921"
             ]
            ],
            "type": "histogram2dcontour"
           }
          ],
          "mesh3d": [
           {
            "colorbar": {
             "outlinewidth": 0,
             "ticks": ""
            },
            "type": "mesh3d"
           }
          ],
          "parcoords": [
           {
            "line": {
             "colorbar": {
              "outlinewidth": 0,
              "ticks": ""
             }
            },
            "type": "parcoords"
           }
          ],
          "pie": [
           {
            "automargin": true,
            "type": "pie"
           }
          ],
          "scatter": [
           {
            "marker": {
             "colorbar": {
              "outlinewidth": 0,
              "ticks": ""
             }
            },
            "type": "scatter"
           }
          ],
          "scatter3d": [
           {
            "line": {
             "colorbar": {
              "outlinewidth": 0,
              "ticks": ""
             }
            },
            "marker": {
             "colorbar": {
              "outlinewidth": 0,
              "ticks": ""
             }
            },
            "type": "scatter3d"
           }
          ],
          "scattercarpet": [
           {
            "marker": {
             "colorbar": {
              "outlinewidth": 0,
              "ticks": ""
             }
            },
            "type": "scattercarpet"
           }
          ],
          "scattergeo": [
           {
            "marker": {
             "colorbar": {
              "outlinewidth": 0,
              "ticks": ""
             }
            },
            "type": "scattergeo"
           }
          ],
          "scattergl": [
           {
            "marker": {
             "colorbar": {
              "outlinewidth": 0,
              "ticks": ""
             }
            },
            "type": "scattergl"
           }
          ],
          "scattermapbox": [
           {
            "marker": {
             "colorbar": {
              "outlinewidth": 0,
              "ticks": ""
             }
            },
            "type": "scattermapbox"
           }
          ],
          "scatterpolar": [
           {
            "marker": {
             "colorbar": {
              "outlinewidth": 0,
              "ticks": ""
             }
            },
            "type": "scatterpolar"
           }
          ],
          "scatterpolargl": [
           {
            "marker": {
             "colorbar": {
              "outlinewidth": 0,
              "ticks": ""
             }
            },
            "type": "scatterpolargl"
           }
          ],
          "scatterternary": [
           {
            "marker": {
             "colorbar": {
              "outlinewidth": 0,
              "ticks": ""
             }
            },
            "type": "scatterternary"
           }
          ],
          "surface": [
           {
            "colorbar": {
             "outlinewidth": 0,
             "ticks": ""
            },
            "colorscale": [
             [
              0,
              "#0d0887"
             ],
             [
              0.1111111111111111,
              "#46039f"
             ],
             [
              0.2222222222222222,
              "#7201a8"
             ],
             [
              0.3333333333333333,
              "#9c179e"
             ],
             [
              0.4444444444444444,
              "#bd3786"
             ],
             [
              0.5555555555555556,
              "#d8576b"
             ],
             [
              0.6666666666666666,
              "#ed7953"
             ],
             [
              0.7777777777777778,
              "#fb9f3a"
             ],
             [
              0.8888888888888888,
              "#fdca26"
             ],
             [
              1,
              "#f0f921"
             ]
            ],
            "type": "surface"
           }
          ],
          "table": [
           {
            "cells": {
             "fill": {
              "color": "#EBF0F8"
             },
             "line": {
              "color": "white"
             }
            },
            "header": {
             "fill": {
              "color": "#C8D4E3"
             },
             "line": {
              "color": "white"
             }
            },
            "type": "table"
           }
          ]
         },
         "layout": {
          "annotationdefaults": {
           "arrowcolor": "#2a3f5f",
           "arrowhead": 0,
           "arrowwidth": 1
          },
          "coloraxis": {
           "colorbar": {
            "outlinewidth": 0,
            "ticks": ""
           }
          },
          "colorscale": {
           "diverging": [
            [
             0,
             "#8e0152"
            ],
            [
             0.1,
             "#c51b7d"
            ],
            [
             0.2,
             "#de77ae"
            ],
            [
             0.3,
             "#f1b6da"
            ],
            [
             0.4,
             "#fde0ef"
            ],
            [
             0.5,
             "#f7f7f7"
            ],
            [
             0.6,
             "#e6f5d0"
            ],
            [
             0.7,
             "#b8e186"
            ],
            [
             0.8,
             "#7fbc41"
            ],
            [
             0.9,
             "#4d9221"
            ],
            [
             1,
             "#276419"
            ]
           ],
           "sequential": [
            [
             0,
             "#0d0887"
            ],
            [
             0.1111111111111111,
             "#46039f"
            ],
            [
             0.2222222222222222,
             "#7201a8"
            ],
            [
             0.3333333333333333,
             "#9c179e"
            ],
            [
             0.4444444444444444,
             "#bd3786"
            ],
            [
             0.5555555555555556,
             "#d8576b"
            ],
            [
             0.6666666666666666,
             "#ed7953"
            ],
            [
             0.7777777777777778,
             "#fb9f3a"
            ],
            [
             0.8888888888888888,
             "#fdca26"
            ],
            [
             1,
             "#f0f921"
            ]
           ],
           "sequentialminus": [
            [
             0,
             "#0d0887"
            ],
            [
             0.1111111111111111,
             "#46039f"
            ],
            [
             0.2222222222222222,
             "#7201a8"
            ],
            [
             0.3333333333333333,
             "#9c179e"
            ],
            [
             0.4444444444444444,
             "#bd3786"
            ],
            [
             0.5555555555555556,
             "#d8576b"
            ],
            [
             0.6666666666666666,
             "#ed7953"
            ],
            [
             0.7777777777777778,
             "#fb9f3a"
            ],
            [
             0.8888888888888888,
             "#fdca26"
            ],
            [
             1,
             "#f0f921"
            ]
           ]
          },
          "colorway": [
           "#636efa",
           "#EF553B",
           "#00cc96",
           "#ab63fa",
           "#FFA15A",
           "#19d3f3",
           "#FF6692",
           "#B6E880",
           "#FF97FF",
           "#FECB52"
          ],
          "font": {
           "color": "#2a3f5f"
          },
          "geo": {
           "bgcolor": "white",
           "lakecolor": "white",
           "landcolor": "#E5ECF6",
           "showlakes": true,
           "showland": true,
           "subunitcolor": "white"
          },
          "hoverlabel": {
           "align": "left"
          },
          "hovermode": "closest",
          "mapbox": {
           "style": "light"
          },
          "paper_bgcolor": "white",
          "plot_bgcolor": "#E5ECF6",
          "polar": {
           "angularaxis": {
            "gridcolor": "white",
            "linecolor": "white",
            "ticks": ""
           },
           "bgcolor": "#E5ECF6",
           "radialaxis": {
            "gridcolor": "white",
            "linecolor": "white",
            "ticks": ""
           }
          },
          "scene": {
           "xaxis": {
            "backgroundcolor": "#E5ECF6",
            "gridcolor": "white",
            "gridwidth": 2,
            "linecolor": "white",
            "showbackground": true,
            "ticks": "",
            "zerolinecolor": "white"
           },
           "yaxis": {
            "backgroundcolor": "#E5ECF6",
            "gridcolor": "white",
            "gridwidth": 2,
            "linecolor": "white",
            "showbackground": true,
            "ticks": "",
            "zerolinecolor": "white"
           },
           "zaxis": {
            "backgroundcolor": "#E5ECF6",
            "gridcolor": "white",
            "gridwidth": 2,
            "linecolor": "white",
            "showbackground": true,
            "ticks": "",
            "zerolinecolor": "white"
           }
          },
          "shapedefaults": {
           "line": {
            "color": "#2a3f5f"
           }
          },
          "ternary": {
           "aaxis": {
            "gridcolor": "white",
            "linecolor": "white",
            "ticks": ""
           },
           "baxis": {
            "gridcolor": "white",
            "linecolor": "white",
            "ticks": ""
           },
           "bgcolor": "#E5ECF6",
           "caxis": {
            "gridcolor": "white",
            "linecolor": "white",
            "ticks": ""
           }
          },
          "title": {
           "x": 0.05
          },
          "xaxis": {
           "automargin": true,
           "gridcolor": "white",
           "linecolor": "white",
           "ticks": "",
           "title": {
            "standoff": 15
           },
           "zerolinecolor": "white",
           "zerolinewidth": 2
          },
          "yaxis": {
           "automargin": true,
           "gridcolor": "white",
           "linecolor": "white",
           "ticks": "",
           "title": {
            "standoff": 15
           },
           "zerolinecolor": "white",
           "zerolinewidth": 2
          }
         }
        },
        "title": {
         "font": {
          "color": "#4D5663"
         },
         "text": "Review Text Word Count Distribution"
        },
        "xaxis": {
         "gridcolor": "#E1E5ED",
         "linecolor": "black",
         "showgrid": true,
         "tickfont": {
          "color": "#4D5663"
         },
         "title": {
          "font": {
           "color": "#4D5663"
          },
          "text": "word count"
         },
         "zerolinecolor": "#E1E5ED"
        },
        "yaxis": {
         "gridcolor": "#E1E5ED",
         "linecolor": "black",
         "showgrid": true,
         "tickfont": {
          "color": "#4D5663"
         },
         "title": {
          "font": {
           "color": "#4D5663"
          },
          "text": "count"
         },
         "zerolinecolor": "#E1E5ED"
        }
       }
      },
      "text/html": [
       "<div>                            <div id=\"12374d0d-1340-48d3-bf8e-69da0ed0c4f4\" class=\"plotly-graph-div\" style=\"height:525px; width:100%;\"></div>            <script type=\"text/javascript\">                require([\"plotly\"], function(Plotly) {                    window.PLOTLYENV=window.PLOTLYENV || {};\n",
       "                    window.PLOTLYENV.BASE_URL='https://plot.ly';                                    if (document.getElementById(\"12374d0d-1340-48d3-bf8e-69da0ed0c4f4\")) {                    Plotly.newPlot(                        \"12374d0d-1340-48d3-bf8e-69da0ed0c4f4\",                        [{\"histfunc\": \"count\", \"histnorm\": \"\", \"marker\": {\"color\": \"rgba(255, 153, 51, 1.0)\", \"line\": {\"color\": \"#000000\", \"width\": 1.3}}, \"name\": \"word_count\", \"nbinsx\": 100, \"opacity\": 0.8, \"orientation\": \"v\", \"type\": \"histogram\", \"x\": [269, 97, 158, 220, 45, 132, 103, 92, 55, 46, 328, 243, 24, 103, 152, 73, 449, 76, 66, 1151, 66, 75, 25, 11, 402, 65, 218, 286, 33, 67, 239, 233, 45, 35, 78, 5, 121, 69, 232, 171, 68, 42, 49, 13, 48, 52, 29, 60, 23, 26, 42, 93, 11, 20, 62, 46, 49, 60, 68, 85, 75, 83, 80, 56, 27, 154, 92, 30, 79, 115, 97, 231, 37, 90, 142, 50, 19, 85, 17, 62, 36, 70, 13, 9, 47, 55, 31, 27, 89, 145, 70, 212, 22, 52, 5, 85, 42, 148, 27, 49, 63, 14, 39, 52, 554, 99, 41, 53, 70, 10, 155, 73, 330, 60, 64, 16, 103, 43, 19, 178, 90, 66, 34, 82, 29, 162, 102, 65, 29, 87, 30, 120, 71, 376, 122, 19, 131, 51, 186, 203, 88, 21, 107, 17, 248, 37, 426, 301, 249, 49, 31, 80, 85, 79, 33, 172, 27, 90, 372, 26, 221, 72, 72, 55, 32, 55, 83, 38, 32, 651, 295, 43, 38, 120, 144, 260, 18, 82, 249, 114, 83, 94, 47, 84, 84, 60, 67, 97, 122, 274, 18, 14, 159, 242, 97, 122, 19, 131, 51, 186, 203, 88, 21, 107, 17, 248, 37, 426, 301, 249, 49, 31, 80, 85, 79, 33, 172, 27, 90, 372, 26, 221, 72, 72, 55, 32, 55, 83, 38, 32, 651, 295, 43, 38, 120, 68, 42, 49, 13, 48, 52, 29, 60, 23, 26, 42, 93, 11, 20, 14, 8, 14, 11, 13, 16, 4, 7, 8, 9, 9, 9, 7, 7, 29, 15, 4, 12, 14, 9, 5, 6, 9, 7, 17, 14, 4, 8, 8, 8, 9, 16, 14, 17, 8, 13, 23, 25, 6, 15, 4, 8, 9, 16, 14, 9, 11, 24, 13, 5, 9, 13, 5, 11, 8, 7, 4, 9, 26, 8, 11, 14, 13, 6, 9, 11, 7, 8, 7, 20, 6, 6, 6, 16, 15, 20, 6, 13, 8, 5, 26, 12, 25, 5, 14, 9, 21, 8, 9, 13, 10, 13, 10, 4, 6, 5, 10, 6, 29, 10, 19, 9, 15, 8, 10, 12, 7, 7, 9, 11, 8, 9, 9, 6, 7, 13, 14, 10, 14, 11, 8, 12, 7, 8, 7, 15, 7, 12, 21, 7, 5, 5, 8, 12, 10, 5, 9, 10, 7, 7, 6, 6, 10, 6, 19, 10, 7, 23, 12, 13, 6, 8, 8, 8, 4, 6, 21, 10, 12, 7, 7, 23, 7, 9, 11, 10, 8, 17, 6, 16, 9, 7, 8, 11, 9, 7, 8, 11, 7, 3, 7, 8, 14, 7, 12, 22, 10, 22, 10, 10, 8, 7, 7, 18, 10, 9, 6, 10, 8, 16, 9, 17, 8, 6, 25, 21, 8, 10, 15, 4, 18, 34, 14, 10, 15, 7, 15, 9, 9, 6, 6, 5, 7, 10, 8, 16, 16, 4, 9, 16, 9, 9, 20, 5, 14, 7, 9, 13, 12, 12, 8, 35, 14, 11, 13, 7, 4, 6, 26, 13]}],                        {\"barmode\": \"overlay\", \"legend\": {\"bgcolor\": \"#F5F6F9\", \"font\": {\"color\": \"#4D5663\"}}, \"paper_bgcolor\": \"#F5F6F9\", \"plot_bgcolor\": \"#F5F6F9\", \"template\": {\"data\": {\"bar\": [{\"error_x\": {\"color\": \"#2a3f5f\"}, \"error_y\": {\"color\": \"#2a3f5f\"}, \"marker\": {\"line\": {\"color\": \"#E5ECF6\", \"width\": 0.5}}, \"type\": \"bar\"}], \"barpolar\": [{\"marker\": {\"line\": {\"color\": \"#E5ECF6\", \"width\": 0.5}}, \"type\": \"barpolar\"}], \"carpet\": [{\"aaxis\": {\"endlinecolor\": \"#2a3f5f\", \"gridcolor\": \"white\", \"linecolor\": \"white\", \"minorgridcolor\": \"white\", \"startlinecolor\": \"#2a3f5f\"}, \"baxis\": {\"endlinecolor\": \"#2a3f5f\", \"gridcolor\": \"white\", \"linecolor\": \"white\", \"minorgridcolor\": \"white\", \"startlinecolor\": \"#2a3f5f\"}, \"type\": \"carpet\"}], \"choropleth\": [{\"colorbar\": {\"outlinewidth\": 0, \"ticks\": \"\"}, \"type\": \"choropleth\"}], \"contour\": [{\"colorbar\": {\"outlinewidth\": 0, \"ticks\": \"\"}, \"colorscale\": [[0.0, \"#0d0887\"], [0.1111111111111111, \"#46039f\"], [0.2222222222222222, \"#7201a8\"], [0.3333333333333333, \"#9c179e\"], [0.4444444444444444, \"#bd3786\"], [0.5555555555555556, \"#d8576b\"], [0.6666666666666666, \"#ed7953\"], [0.7777777777777778, \"#fb9f3a\"], [0.8888888888888888, \"#fdca26\"], [1.0, \"#f0f921\"]], \"type\": \"contour\"}], \"contourcarpet\": [{\"colorbar\": {\"outlinewidth\": 0, \"ticks\": \"\"}, \"type\": \"contourcarpet\"}], \"heatmap\": [{\"colorbar\": {\"outlinewidth\": 0, \"ticks\": \"\"}, \"colorscale\": [[0.0, \"#0d0887\"], [0.1111111111111111, \"#46039f\"], [0.2222222222222222, \"#7201a8\"], [0.3333333333333333, \"#9c179e\"], [0.4444444444444444, \"#bd3786\"], [0.5555555555555556, \"#d8576b\"], [0.6666666666666666, \"#ed7953\"], [0.7777777777777778, \"#fb9f3a\"], [0.8888888888888888, \"#fdca26\"], [1.0, \"#f0f921\"]], \"type\": \"heatmap\"}], \"heatmapgl\": [{\"colorbar\": {\"outlinewidth\": 0, \"ticks\": \"\"}, \"colorscale\": [[0.0, \"#0d0887\"], [0.1111111111111111, \"#46039f\"], [0.2222222222222222, \"#7201a8\"], [0.3333333333333333, \"#9c179e\"], [0.4444444444444444, \"#bd3786\"], [0.5555555555555556, \"#d8576b\"], [0.6666666666666666, \"#ed7953\"], [0.7777777777777778, \"#fb9f3a\"], [0.8888888888888888, \"#fdca26\"], [1.0, \"#f0f921\"]], \"type\": \"heatmapgl\"}], \"histogram\": [{\"marker\": {\"colorbar\": {\"outlinewidth\": 0, \"ticks\": \"\"}}, \"type\": \"histogram\"}], \"histogram2d\": [{\"colorbar\": {\"outlinewidth\": 0, \"ticks\": \"\"}, \"colorscale\": [[0.0, \"#0d0887\"], [0.1111111111111111, \"#46039f\"], [0.2222222222222222, \"#7201a8\"], [0.3333333333333333, \"#9c179e\"], [0.4444444444444444, \"#bd3786\"], [0.5555555555555556, \"#d8576b\"], [0.6666666666666666, \"#ed7953\"], [0.7777777777777778, \"#fb9f3a\"], [0.8888888888888888, \"#fdca26\"], [1.0, \"#f0f921\"]], \"type\": \"histogram2d\"}], \"histogram2dcontour\": [{\"colorbar\": {\"outlinewidth\": 0, \"ticks\": \"\"}, \"colorscale\": [[0.0, \"#0d0887\"], [0.1111111111111111, \"#46039f\"], [0.2222222222222222, \"#7201a8\"], [0.3333333333333333, \"#9c179e\"], [0.4444444444444444, \"#bd3786\"], [0.5555555555555556, \"#d8576b\"], [0.6666666666666666, \"#ed7953\"], [0.7777777777777778, \"#fb9f3a\"], [0.8888888888888888, \"#fdca26\"], [1.0, \"#f0f921\"]], \"type\": \"histogram2dcontour\"}], \"mesh3d\": [{\"colorbar\": {\"outlinewidth\": 0, \"ticks\": \"\"}, \"type\": \"mesh3d\"}], \"parcoords\": [{\"line\": {\"colorbar\": {\"outlinewidth\": 0, \"ticks\": \"\"}}, \"type\": \"parcoords\"}], \"pie\": [{\"automargin\": true, \"type\": \"pie\"}], \"scatter\": [{\"marker\": {\"colorbar\": {\"outlinewidth\": 0, \"ticks\": \"\"}}, \"type\": \"scatter\"}], \"scatter3d\": [{\"line\": {\"colorbar\": {\"outlinewidth\": 0, \"ticks\": \"\"}}, \"marker\": {\"colorbar\": {\"outlinewidth\": 0, \"ticks\": \"\"}}, \"type\": \"scatter3d\"}], \"scattercarpet\": [{\"marker\": {\"colorbar\": {\"outlinewidth\": 0, \"ticks\": \"\"}}, \"type\": \"scattercarpet\"}], \"scattergeo\": [{\"marker\": {\"colorbar\": {\"outlinewidth\": 0, \"ticks\": \"\"}}, \"type\": \"scattergeo\"}], \"scattergl\": [{\"marker\": {\"colorbar\": {\"outlinewidth\": 0, \"ticks\": \"\"}}, \"type\": \"scattergl\"}], \"scattermapbox\": [{\"marker\": {\"colorbar\": {\"outlinewidth\": 0, \"ticks\": \"\"}}, \"type\": \"scattermapbox\"}], \"scatterpolar\": [{\"marker\": {\"colorbar\": {\"outlinewidth\": 0, \"ticks\": \"\"}}, \"type\": \"scatterpolar\"}], \"scatterpolargl\": [{\"marker\": {\"colorbar\": {\"outlinewidth\": 0, \"ticks\": \"\"}}, \"type\": \"scatterpolargl\"}], \"scatterternary\": [{\"marker\": {\"colorbar\": {\"outlinewidth\": 0, \"ticks\": \"\"}}, \"type\": \"scatterternary\"}], \"surface\": [{\"colorbar\": {\"outlinewidth\": 0, \"ticks\": \"\"}, \"colorscale\": [[0.0, \"#0d0887\"], [0.1111111111111111, \"#46039f\"], [0.2222222222222222, \"#7201a8\"], [0.3333333333333333, \"#9c179e\"], [0.4444444444444444, \"#bd3786\"], [0.5555555555555556, \"#d8576b\"], [0.6666666666666666, \"#ed7953\"], [0.7777777777777778, \"#fb9f3a\"], [0.8888888888888888, \"#fdca26\"], [1.0, \"#f0f921\"]], \"type\": \"surface\"}], \"table\": [{\"cells\": {\"fill\": {\"color\": \"#EBF0F8\"}, \"line\": {\"color\": \"white\"}}, \"header\": {\"fill\": {\"color\": \"#C8D4E3\"}, \"line\": {\"color\": \"white\"}}, \"type\": \"table\"}]}, \"layout\": {\"annotationdefaults\": {\"arrowcolor\": \"#2a3f5f\", \"arrowhead\": 0, \"arrowwidth\": 1}, \"coloraxis\": {\"colorbar\": {\"outlinewidth\": 0, \"ticks\": \"\"}}, \"colorscale\": {\"diverging\": [[0, \"#8e0152\"], [0.1, \"#c51b7d\"], [0.2, \"#de77ae\"], [0.3, \"#f1b6da\"], [0.4, \"#fde0ef\"], [0.5, \"#f7f7f7\"], [0.6, \"#e6f5d0\"], [0.7, \"#b8e186\"], [0.8, \"#7fbc41\"], [0.9, \"#4d9221\"], [1, \"#276419\"]], \"sequential\": [[0.0, \"#0d0887\"], [0.1111111111111111, \"#46039f\"], [0.2222222222222222, \"#7201a8\"], [0.3333333333333333, \"#9c179e\"], [0.4444444444444444, \"#bd3786\"], [0.5555555555555556, \"#d8576b\"], [0.6666666666666666, \"#ed7953\"], [0.7777777777777778, \"#fb9f3a\"], [0.8888888888888888, \"#fdca26\"], [1.0, \"#f0f921\"]], \"sequentialminus\": [[0.0, \"#0d0887\"], [0.1111111111111111, \"#46039f\"], [0.2222222222222222, \"#7201a8\"], [0.3333333333333333, \"#9c179e\"], [0.4444444444444444, \"#bd3786\"], [0.5555555555555556, \"#d8576b\"], [0.6666666666666666, \"#ed7953\"], [0.7777777777777778, \"#fb9f3a\"], [0.8888888888888888, \"#fdca26\"], [1.0, \"#f0f921\"]]}, \"colorway\": [\"#636efa\", \"#EF553B\", \"#00cc96\", \"#ab63fa\", \"#FFA15A\", \"#19d3f3\", \"#FF6692\", \"#B6E880\", \"#FF97FF\", \"#FECB52\"], \"font\": {\"color\": \"#2a3f5f\"}, \"geo\": {\"bgcolor\": \"white\", \"lakecolor\": \"white\", \"landcolor\": \"#E5ECF6\", \"showlakes\": true, \"showland\": true, \"subunitcolor\": \"white\"}, \"hoverlabel\": {\"align\": \"left\"}, \"hovermode\": \"closest\", \"mapbox\": {\"style\": \"light\"}, \"paper_bgcolor\": \"white\", \"plot_bgcolor\": \"#E5ECF6\", \"polar\": {\"angularaxis\": {\"gridcolor\": \"white\", \"linecolor\": \"white\", \"ticks\": \"\"}, \"bgcolor\": \"#E5ECF6\", \"radialaxis\": {\"gridcolor\": \"white\", \"linecolor\": \"white\", \"ticks\": \"\"}}, \"scene\": {\"xaxis\": {\"backgroundcolor\": \"#E5ECF6\", \"gridcolor\": \"white\", \"gridwidth\": 2, \"linecolor\": \"white\", \"showbackground\": true, \"ticks\": \"\", \"zerolinecolor\": \"white\"}, \"yaxis\": {\"backgroundcolor\": \"#E5ECF6\", \"gridcolor\": \"white\", \"gridwidth\": 2, \"linecolor\": \"white\", \"showbackground\": true, \"ticks\": \"\", \"zerolinecolor\": \"white\"}, \"zaxis\": {\"backgroundcolor\": \"#E5ECF6\", \"gridcolor\": \"white\", \"gridwidth\": 2, \"linecolor\": \"white\", \"showbackground\": true, \"ticks\": \"\", \"zerolinecolor\": \"white\"}}, \"shapedefaults\": {\"line\": {\"color\": \"#2a3f5f\"}}, \"ternary\": {\"aaxis\": {\"gridcolor\": \"white\", \"linecolor\": \"white\", \"ticks\": \"\"}, \"baxis\": {\"gridcolor\": \"white\", \"linecolor\": \"white\", \"ticks\": \"\"}, \"bgcolor\": \"#E5ECF6\", \"caxis\": {\"gridcolor\": \"white\", \"linecolor\": \"white\", \"ticks\": \"\"}}, \"title\": {\"x\": 0.05}, \"xaxis\": {\"automargin\": true, \"gridcolor\": \"white\", \"linecolor\": \"white\", \"ticks\": \"\", \"title\": {\"standoff\": 15}, \"zerolinecolor\": \"white\", \"zerolinewidth\": 2}, \"yaxis\": {\"automargin\": true, \"gridcolor\": \"white\", \"linecolor\": \"white\", \"ticks\": \"\", \"title\": {\"standoff\": 15}, \"zerolinecolor\": \"white\", \"zerolinewidth\": 2}}}, \"title\": {\"font\": {\"color\": \"#4D5663\"}, \"text\": \"Review Text Word Count Distribution\"}, \"xaxis\": {\"gridcolor\": \"#E1E5ED\", \"linecolor\": \"black\", \"showgrid\": true, \"tickfont\": {\"color\": \"#4D5663\"}, \"title\": {\"font\": {\"color\": \"#4D5663\"}, \"text\": \"word count\"}, \"zerolinecolor\": \"#E1E5ED\"}, \"yaxis\": {\"gridcolor\": \"#E1E5ED\", \"linecolor\": \"black\", \"showgrid\": true, \"tickfont\": {\"color\": \"#4D5663\"}, \"title\": {\"font\": {\"color\": \"#4D5663\"}, \"text\": \"count\"}, \"zerolinecolor\": \"#E1E5ED\"}},                        {\"showLink\": true, \"linkText\": \"Export to plot.ly\", \"plotlyServerURL\": \"https://plot.ly\", \"responsive\": true}                    ).then(function(){\n",
       "                            \n",
       "var gd = document.getElementById('12374d0d-1340-48d3-bf8e-69da0ed0c4f4');\n",
       "var x = new MutationObserver(function (mutations, observer) {{\n",
       "        var display = window.getComputedStyle(gd).display;\n",
       "        if (!display || display === 'none') {{\n",
       "            console.log([gd, 'removed!']);\n",
       "            Plotly.purge(gd);\n",
       "            observer.disconnect();\n",
       "        }}\n",
       "}});\n",
       "\n",
       "// Listen for the removal of the full notebook cells\n",
       "var notebookContainer = gd.closest('#notebook-container');\n",
       "if (notebookContainer) {{\n",
       "    x.observe(notebookContainer, {childList: true});\n",
       "}}\n",
       "\n",
       "// Listen for the clearing of the current output cell\n",
       "var outputEl = gd.closest('.output');\n",
       "if (outputEl) {{\n",
       "    x.observe(outputEl, {childList: true});\n",
       "}}\n",
       "\n",
       "                        })                };                });            </script>        </div>"
      ]
     },
     "metadata": {},
     "output_type": "display_data"
    }
   ],
   "source": [
    "cs['word_count'].iplot(\n",
    "    kind='hist',\n",
    "    bins=100,\n",
    "    xTitle='word count',\n",
    "    linecolor='black',\n",
    "    yTitle='count',\n",
    "    title='Review Text Word Count Distribution')"
   ]
  },
  {
   "cell_type": "code",
   "execution_count": null,
   "metadata": {},
   "outputs": [],
   "source": []
  },
  {
   "cell_type": "code",
   "execution_count": null,
   "metadata": {},
   "outputs": [],
   "source": []
  },
  {
   "cell_type": "code",
   "execution_count": null,
   "metadata": {},
   "outputs": [],
   "source": []
  },
  {
   "cell_type": "code",
   "execution_count": null,
   "metadata": {},
   "outputs": [],
   "source": []
  },
  {
   "cell_type": "code",
   "execution_count": null,
   "metadata": {},
   "outputs": [],
   "source": []
  },
  {
   "cell_type": "code",
   "execution_count": null,
   "metadata": {},
   "outputs": [],
   "source": []
  },
  {
   "cell_type": "code",
   "execution_count": null,
   "metadata": {},
   "outputs": [],
   "source": []
  },
  {
   "cell_type": "code",
   "execution_count": null,
   "metadata": {},
   "outputs": [],
   "source": []
  },
  {
   "cell_type": "code",
   "execution_count": null,
   "metadata": {},
   "outputs": [],
   "source": []
  },
  {
   "cell_type": "code",
   "execution_count": null,
   "metadata": {},
   "outputs": [],
   "source": []
  },
  {
   "cell_type": "code",
   "execution_count": null,
   "metadata": {},
   "outputs": [],
   "source": []
  },
  {
   "cell_type": "code",
   "execution_count": null,
   "metadata": {},
   "outputs": [],
   "source": []
  },
  {
   "cell_type": "code",
   "execution_count": null,
   "metadata": {},
   "outputs": [],
   "source": []
  },
  {
   "cell_type": "code",
   "execution_count": null,
   "metadata": {},
   "outputs": [],
   "source": []
  },
  {
   "cell_type": "code",
   "execution_count": null,
   "metadata": {},
   "outputs": [],
   "source": []
  },
  {
   "cell_type": "code",
   "execution_count": null,
   "metadata": {},
   "outputs": [],
   "source": []
  },
  {
   "cell_type": "code",
   "execution_count": 17,
   "metadata": {
    "ExecuteTime": {
     "end_time": "2020-09-18T00:15:29.199260Z",
     "start_time": "2020-09-18T00:15:29.194275Z"
    }
   },
   "outputs": [],
   "source": [
    "id_child = ['child','children','kid','daughter','son','student','girl',\n",
    "           'boy','18','17','16','15','14','13','12','11','10','Teens','school']"
   ]
  },
  {
   "cell_type": "code",
   "execution_count": 18,
   "metadata": {
    "ExecuteTime": {
     "end_time": "2020-09-18T00:15:29.716347Z",
     "start_time": "2020-09-18T00:15:29.664120Z"
    }
   },
   "outputs": [],
   "source": [
    "iter_1 = 0\n",
    "id_list1 = []\n",
    "for nm in cs['Content'].tolist():\n",
    "    for id_ in id_child:\n",
    "        if id_ in nm.lower().split():\n",
    "            id_list1.append(iter_1)\n",
    "        else:\n",
    "            pass\n",
    "    iter_1+=1\n",
    "        "
   ]
  },
  {
   "cell_type": "code",
   "execution_count": 19,
   "metadata": {
    "ExecuteTime": {
     "end_time": "2020-09-18T00:15:29.981925Z",
     "start_time": "2020-09-18T00:15:29.966931Z"
    }
   },
   "outputs": [
    {
     "data": {
      "text/plain": [
       "118"
      ]
     },
     "execution_count": 19,
     "metadata": {},
     "output_type": "execute_result"
    }
   ],
   "source": [
    "len(id_list1)"
   ]
  },
  {
   "cell_type": "code",
   "execution_count": 20,
   "metadata": {
    "ExecuteTime": {
     "end_time": "2020-09-18T00:15:30.322224Z",
     "start_time": "2020-09-18T00:15:30.312219Z"
    }
   },
   "outputs": [
    {
     "data": {
      "text/plain": [
       "118"
      ]
     },
     "execution_count": 20,
     "metadata": {},
     "output_type": "execute_result"
    }
   ],
   "source": [
    "#extracting specific contents as per above :\n",
    "f_list = list(id_list1)\n",
    "len(f_list)"
   ]
  },
  {
   "cell_type": "code",
   "execution_count": 21,
   "metadata": {
    "ExecuteTime": {
     "end_time": "2020-09-18T00:15:30.774119Z",
     "start_time": "2020-09-18T00:15:30.766140Z"
    }
   },
   "outputs": [
    {
     "data": {
      "text/plain": [
       "(                                             Content  target\n",
       " 0  Hi  I was recently doxed by a few people who k...       0\n",
       " 1  Hi  I was recently doxed by a few people who k...       0\n",
       " 2  Hi  This is my first post on this community so...       0\n",
       " 3  Hi  This is my first post on this community so...       0\n",
       " 4  I don't know anything about this site and my 1...       0,\n",
       "                                                Content  target\n",
       " 113  I have two daughters 8 and 14 and i am very wo...       0\n",
       " 114  What are the laws to change your status from a...       0\n",
       " 115  Is being a good kid and not being a rebel wort...       0\n",
       " 116  In how many ways can we distribute 10 identica...       0\n",
       " 117  In how many ways can we distribute 10 identica...       0)"
      ]
     },
     "execution_count": 21,
     "metadata": {},
     "output_type": "execute_result"
    }
   ],
   "source": [
    "new_cs = cs.iloc[f_list].reset_index(drop=True) ; new_cs['target'] = [0 for x in range(new_cs.shape[0])]\n",
    "new_cs.head(5),new_cs.tail(5)"
   ]
  },
  {
   "cell_type": "markdown",
   "metadata": {},
   "source": [
    " \n",
    " "
   ]
  },
  {
   "cell_type": "markdown",
   "metadata": {},
   "source": [
    " "
   ]
  },
  {
   "cell_type": "markdown",
   "metadata": {},
   "source": [
    "Sentiment Analysis - Cybersmile [scrapped,filtered data]"
   ]
  },
  {
   "cell_type": "code",
   "execution_count": 22,
   "metadata": {
    "ExecuteTime": {
     "end_time": "2020-09-18T00:15:31.939420Z",
     "start_time": "2020-09-18T00:15:31.920472Z"
    }
   },
   "outputs": [],
   "source": [
    "corpus_cs_1 = cs['Content'].tolist()\n",
    "target = cs['target'].tolist()"
   ]
  },
  {
   "cell_type": "code",
   "execution_count": 23,
   "metadata": {
    "ExecuteTime": {
     "end_time": "2020-09-18T00:15:32.331157Z",
     "start_time": "2020-09-18T00:15:32.318159Z"
    }
   },
   "outputs": [],
   "source": [
    "#stop words\n",
    "english_stop_words = stopwords.words('english')\n",
    "def remove_stop_words(corpus):\n",
    "    removed_stop_words = []\n",
    "    for review in corpus:\n",
    "        removed_stop_words.append(\n",
    "            ' '.join([word for word in review.split() \n",
    "                      if word not in english_stop_words])\n",
    "        )\n",
    "    return removed_stop_words"
   ]
  },
  {
   "cell_type": "code",
   "execution_count": 24,
   "metadata": {
    "ExecuteTime": {
     "end_time": "2020-09-18T00:15:32.952330Z",
     "start_time": "2020-09-18T00:15:32.897439Z"
    }
   },
   "outputs": [],
   "source": [
    "corpus_cs_1 = remove_stop_words(corpus_cs_1)"
   ]
  },
  {
   "cell_type": "code",
   "execution_count": 25,
   "metadata": {
    "ExecuteTime": {
     "end_time": "2020-09-18T00:15:34.743031Z",
     "start_time": "2020-09-18T00:15:33.404343Z"
    }
   },
   "outputs": [],
   "source": [
    "#lematize \n",
    "def get_lemmatized_text(corpus):\n",
    "    from nltk.stem import WordNetLemmatizer\n",
    "    lemmatizer = WordNetLemmatizer()\n",
    "    return [' '.join([lemmatizer.lemmatize(word) for word in review.split()]) for review in corpus]\n",
    "\n",
    "corpus_cs_1 = get_lemmatized_text(corpus_cs_1)"
   ]
  },
  {
   "cell_type": "markdown",
   "metadata": {},
   "source": [
    "Models - I"
   ]
  },
  {
   "cell_type": "code",
   "execution_count": 26,
   "metadata": {
    "ExecuteTime": {
     "end_time": "2020-09-18T00:15:35.106266Z",
     "start_time": "2020-09-18T00:15:34.744026Z"
    }
   },
   "outputs": [
    {
     "name": "stdout",
     "output_type": "stream",
     "text": [
      "Accuracy for C=0.01: 0.904\n",
      "Accuracy for C=0.05: 0.936\n",
      "Accuracy for C=0.25: 0.944\n",
      "Accuracy for C=0.5: 0.96\n",
      "Accuracy for C=1: 0.96\n",
      "Logistic Regression Final Accuracy: 0.9979959919839679\n"
     ]
    }
   ],
   "source": [
    "ngram_vectorizer = CountVectorizer(binary=True, ngram_range=(1, 2))\n",
    "ngram_vectorizer.fit(corpus_cs_1)\n",
    "X = ngram_vectorizer.transform(corpus_cs_1)\n",
    "X_test = ngram_vectorizer.transform(corpus_cs_1)\n",
    "\n",
    "X_train, X_val, y_train, y_val = train_test_split(\n",
    "    X, target, train_size = 0.75\n",
    ")\n",
    "for c in [0.01, 0.05, 0.25, 0.5, 1]:\n",
    "    \n",
    "    lr = LogisticRegression(C=c)\n",
    "    lr.fit(X_train, y_train)\n",
    "    print (\"Accuracy for C=%s: %s\" \n",
    "           % (c, accuracy_score(y_val, lr.predict(X_val))))\n",
    "    \n",
    "    \n",
    "final_ngram = LogisticRegression(C=0.5)\n",
    "final_ngram.fit(X, target)\n",
    "print (\"Logistic Regression Final Accuracy: %s\" \n",
    "       % accuracy_score(target, final_ngram.predict(X_test)))"
   ]
  },
  {
   "cell_type": "code",
   "execution_count": 69,
   "metadata": {
    "ExecuteTime": {
     "end_time": "2020-09-18T00:01:51.104916Z",
     "start_time": "2020-09-18T00:01:51.085966Z"
    }
   },
   "outputs": [
    {
     "name": "stdout",
     "output_type": "stream",
     "text": [
      "[[240   9]\n",
      " [  0 250]]\n"
     ]
    }
   ],
   "source": [
    "cm = metrics.confusion_matrix(target, lr.predict(X_test))\n",
    "print(cm)"
   ]
  },
  {
   "cell_type": "code",
   "execution_count": 70,
   "metadata": {
    "ExecuteTime": {
     "end_time": "2020-09-18T00:02:14.603587Z",
     "start_time": "2020-09-18T00:02:14.589625Z"
    }
   },
   "outputs": [
    {
     "name": "stdout",
     "output_type": "stream",
     "text": [
      "              precision    recall  f1-score   support\n",
      "\n",
      "           0       1.00      0.96      0.98       249\n",
      "           1       0.97      1.00      0.98       250\n",
      "\n",
      "    accuracy                           0.98       499\n",
      "   macro avg       0.98      0.98      0.98       499\n",
      "weighted avg       0.98      0.98      0.98       499\n",
      "\n"
     ]
    }
   ],
   "source": [
    "print(classification_report(target, lr.predict(X_test)))"
   ]
  },
  {
   "cell_type": "code",
   "execution_count": 85,
   "metadata": {
    "ExecuteTime": {
     "end_time": "2020-09-18T00:09:13.276418Z",
     "start_time": "2020-09-18T00:09:13.271431Z"
    }
   },
   "outputs": [
    {
     "data": {
      "text/plain": [
       "(array([[-1.01165046e-05, -1.01165046e-05,  0.00000000e+00, ...,\n",
       "         -1.04197761e-01, -1.04197761e-01, -1.04197761e-01]]),\n",
       " array([2.32849639]))"
      ]
     },
     "execution_count": 85,
     "metadata": {},
     "output_type": "execute_result"
    }
   ],
   "source": [
    "lr.coef_ , lr.intercept_"
   ]
  },
  {
   "cell_type": "markdown",
   "metadata": {},
   "source": [
    " "
   ]
  },
  {
   "cell_type": "markdown",
   "metadata": {},
   "source": [
    " "
   ]
  },
  {
   "cell_type": "code",
   "execution_count": 71,
   "metadata": {
    "ExecuteTime": {
     "end_time": "2020-09-18T00:02:40.755114Z",
     "start_time": "2020-09-18T00:02:40.653324Z"
    }
   },
   "outputs": [
    {
     "name": "stdout",
     "output_type": "stream",
     "text": [
      "Accuracy for C=0.01: 0.64\n",
      "Accuracy for C=0.05: 0.984\n",
      "Accuracy for C=0.25: 0.976\n",
      "Accuracy for C=0.5: 0.976\n",
      "Accuracy for C=1: 0.976\n",
      "TF-IDF Final Accuracy: 0.9959919839679359\n"
     ]
    }
   ],
   "source": [
    "tfidf_vectorizer = TfidfVectorizer()\n",
    "tfidf_vectorizer.fit(corpus_cs_1)\n",
    "X = tfidf_vectorizer.transform(corpus_cs_1)\n",
    "X_test = tfidf_vectorizer.transform(corpus_cs_1)\n",
    "\n",
    "X_train, X_val, y_train, y_val = train_test_split(\n",
    "    X, target, train_size = 0.75\n",
    ")\n",
    "\n",
    "for c in [0.01, 0.05, 0.25, 0.5, 1]:\n",
    "    \n",
    "    lr1 = LogisticRegression(C=c)\n",
    "    lr1.fit(X_train, y_train)\n",
    "    print (\"Accuracy for C=%s: %s\" \n",
    "           % (c, accuracy_score(y_val, lr1.predict(X_val))))\n",
    "\n",
    "final_tfidf = LogisticRegression(C=1)\n",
    "final_tfidf.fit(X, target)\n",
    "print (\"TF-IDF Final Accuracy: %s\" \n",
    "       % accuracy_score(target, final_tfidf.predict(X_test)))"
   ]
  },
  {
   "cell_type": "code",
   "execution_count": 72,
   "metadata": {
    "ExecuteTime": {
     "end_time": "2020-09-18T00:02:52.846881Z",
     "start_time": "2020-09-18T00:02:52.835911Z"
    }
   },
   "outputs": [
    {
     "name": "stdout",
     "output_type": "stream",
     "text": [
      "[[247   2]\n",
      " [  1 249]]\n"
     ]
    }
   ],
   "source": [
    "cm = metrics.confusion_matrix(target, lr1.predict(X_test))\n",
    "print(cm)"
   ]
  },
  {
   "cell_type": "code",
   "execution_count": 73,
   "metadata": {
    "ExecuteTime": {
     "end_time": "2020-09-18T00:03:01.681487Z",
     "start_time": "2020-09-18T00:03:01.664535Z"
    }
   },
   "outputs": [
    {
     "name": "stdout",
     "output_type": "stream",
     "text": [
      "              precision    recall  f1-score   support\n",
      "\n",
      "           0       1.00      0.99      0.99       249\n",
      "           1       0.99      1.00      0.99       250\n",
      "\n",
      "    accuracy                           0.99       499\n",
      "   macro avg       0.99      0.99      0.99       499\n",
      "weighted avg       0.99      0.99      0.99       499\n",
      "\n"
     ]
    }
   ],
   "source": [
    "print(classification_report(target, lr1.predict(X_test)))"
   ]
  },
  {
   "cell_type": "code",
   "execution_count": 86,
   "metadata": {
    "ExecuteTime": {
     "end_time": "2020-09-18T00:09:26.393979Z",
     "start_time": "2020-09-18T00:09:26.386998Z"
    }
   },
   "outputs": [
    {
     "data": {
      "text/plain": [
       "(array([[-0.0221435 ,  0.        , -0.31650852, ..., -0.19314841,\n",
       "         -0.0965742 , -0.19314841]]),\n",
       " array([0.51074244]))"
      ]
     },
     "execution_count": 86,
     "metadata": {},
     "output_type": "execute_result"
    }
   ],
   "source": [
    "lr1.coef_ , lr1.intercept_"
   ]
  },
  {
   "cell_type": "markdown",
   "metadata": {},
   "source": [
    " "
   ]
  },
  {
   "cell_type": "markdown",
   "metadata": {},
   "source": [
    " "
   ]
  },
  {
   "cell_type": "code",
   "execution_count": 74,
   "metadata": {
    "ExecuteTime": {
     "end_time": "2020-09-18T00:05:49.454416Z",
     "start_time": "2020-09-18T00:05:49.331750Z"
    }
   },
   "outputs": [
    {
     "name": "stdout",
     "output_type": "stream",
     "text": [
      "Accuracy for C=0.01: 0.968\n",
      "Accuracy for C=0.05: 0.968\n",
      "Accuracy for C=0.25: 0.968\n",
      "Accuracy for C=0.5: 0.976\n",
      "Accuracy for C=1: 0.976\n",
      "SVM Final Accuracy: 0.9859719438877755\n"
     ]
    }
   ],
   "source": [
    "ngram_vectorizer = CountVectorizer(binary=True, ngram_range=(1, 2))\n",
    "ngram_vectorizer.fit(corpus_cs_1)\n",
    "X = ngram_vectorizer.transform(corpus_cs_1)\n",
    "X_test = ngram_vectorizer.transform(corpus_cs_1)\n",
    "\n",
    "X_train, X_val, y_train, y_val = train_test_split(\n",
    "    X, target, train_size = 0.75\n",
    ")\n",
    "\n",
    "for c in [0.01, 0.05, 0.25, 0.5, 1]:\n",
    "    \n",
    "    svm = LinearSVC(C=c)\n",
    "    svm.fit(X_train, y_train)\n",
    "    print (\"Accuracy for C=%s: %s\" \n",
    "           % (c, accuracy_score(y_val, svm.predict(X_val))))\n",
    "\n",
    "    \n",
    "final_svm_ngram = LinearSVC(C=0.01)\n",
    "final_svm_ngram.fit(X, target)\n",
    "print (\"SVM Final Accuracy: %s\" \n",
    "       % accuracy_score(target, final_svm_ngram.predict(X_test)))"
   ]
  },
  {
   "cell_type": "code",
   "execution_count": 75,
   "metadata": {
    "ExecuteTime": {
     "end_time": "2020-09-18T00:06:04.578897Z",
     "start_time": "2020-09-18T00:06:04.570904Z"
    }
   },
   "outputs": [
    {
     "name": "stdout",
     "output_type": "stream",
     "text": [
      "[[246   3]\n",
      " [  0 250]]\n"
     ]
    }
   ],
   "source": [
    "cm = metrics.confusion_matrix(target, svm.predict(X_test))\n",
    "print(cm)"
   ]
  },
  {
   "cell_type": "code",
   "execution_count": 76,
   "metadata": {
    "ExecuteTime": {
     "end_time": "2020-09-18T00:06:14.018423Z",
     "start_time": "2020-09-18T00:06:13.997480Z"
    }
   },
   "outputs": [
    {
     "name": "stdout",
     "output_type": "stream",
     "text": [
      "              precision    recall  f1-score   support\n",
      "\n",
      "           0       1.00      0.99      0.99       249\n",
      "           1       0.99      1.00      0.99       250\n",
      "\n",
      "    accuracy                           0.99       499\n",
      "   macro avg       0.99      0.99      0.99       499\n",
      "weighted avg       0.99      0.99      0.99       499\n",
      "\n"
     ]
    }
   ],
   "source": [
    "print(classification_report(target, svm.predict(X_test)))"
   ]
  },
  {
   "cell_type": "code",
   "execution_count": 87,
   "metadata": {
    "ExecuteTime": {
     "end_time": "2020-09-18T00:09:35.100224Z",
     "start_time": "2020-09-18T00:09:35.095210Z"
    }
   },
   "outputs": [
    {
     "data": {
      "text/plain": [
       "(array([[0., 0., 0., ..., 0., 0., 0.]]), array([0.54710676]))"
      ]
     },
     "execution_count": 87,
     "metadata": {},
     "output_type": "execute_result"
    }
   ],
   "source": [
    "svm.coef_ , svm.intercept_"
   ]
  },
  {
   "cell_type": "code",
   "execution_count": 94,
   "metadata": {
    "ExecuteTime": {
     "end_time": "2020-09-18T00:14:16.055819Z",
     "start_time": "2020-09-18T00:14:16.041857Z"
    }
   },
   "outputs": [],
   "source": []
  },
  {
   "cell_type": "code",
   "execution_count": null,
   "metadata": {
    "ExecuteTime": {
     "end_time": "2020-09-18T00:14:35.266757Z",
     "start_time": "2020-09-18T00:14:33.102191Z"
    }
   },
   "outputs": [],
   "source": []
  },
  {
   "cell_type": "code",
   "execution_count": null,
   "metadata": {},
   "outputs": [],
   "source": []
  }
 ],
 "metadata": {
  "kernelspec": {
   "display_name": "Python 3",
   "language": "python",
   "name": "python3"
  },
  "language_info": {
   "codemirror_mode": {
    "name": "ipython",
    "version": 3
   },
   "file_extension": ".py",
   "mimetype": "text/x-python",
   "name": "python",
   "nbconvert_exporter": "python",
   "pygments_lexer": "ipython3",
   "version": "3.7.7"
  }
 },
 "nbformat": 4,
 "nbformat_minor": 4
}
